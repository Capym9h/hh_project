{
 "cells": [
  {
   "cell_type": "code",
   "execution_count": null,
   "id": "ad11cff0",
   "metadata": {},
   "outputs": [
    {
     "name": "stdout",
     "output_type": "stream",
     "text": [
      "['РјРѕСЃРєРІР° [10,10]\\n', 'РЎР°РЅРєС‚ РџРµС‚РµСЂР±СѓСЂРі [18,18]\\n', 'РўРѕРјСЃРє [90,90]']\n"
     ]
    }
   ],
   "source": [
    "import os\n",
    "import json\n",
    "\n",
    "CACHE_FILE = \"resource/geo_cache.json\"\n",
    "geolocator = Nominatim(user_agent=\"geoapi\", timeout=10)\n",
    "\n",
    "# Загрузка кэша из файла\n",
    "def load_cache():\n",
    "    if os.path.exists(CACHE_FILE):\n",
    "        try:\n",
    "            with open(CACHE_FILE, 'r', encoding='utf-8') as f:\n",
    "                return json.load(f)\n",
    "        except:\n",
    "            return {}\n",
    "    return {}"
   ]
  },
  {
   "cell_type": "markdown",
   "id": "70a77952",
   "metadata": {},
   "source": [
    "---\n",
    "---"
   ]
  },
  {
   "cell_type": "code",
   "execution_count": 6,
   "id": "72d3dbef",
   "metadata": {},
   "outputs": [],
   "source": [
    "import json\n",
    "import os\n",
    "from geopy.geocoders import Nominatim\n",
    "import pandas as pd\n",
    "\n",
    "# Конфигурация\n",
    "CACHE_FILE = \"resources/geo_cache.json\"\n",
    "geolocator = Nominatim(user_agent=\"geoapi\", timeout=10)\n",
    "\n",
    "# Загрузка кэша из файла\n",
    "def load_cache():\n",
    "    if os.path.exists(CACHE_FILE):\n",
    "        try:\n",
    "            with open(CACHE_FILE, 'r', encoding='utf-8') as f:\n",
    "                return json.load(f)\n",
    "        except:\n",
    "            return {}\n",
    "    print('Error: Cache file not found')\n",
    "    return {}"
   ]
  },
  {
   "cell_type": "code",
   "execution_count": 18,
   "id": "a87e503f",
   "metadata": {},
   "outputs": [],
   "source": [
    "# Получение координат с использованием кэша\n",
    "def get_geopoints(city: str, cache: dict) -> list:\n",
    "    if not city or pd.isna(city):\n",
    "        return [None, None]\n",
    "    \n",
    "    # Проверяем кэш\n",
    "    if city in cache:\n",
    "        return list[cache[city]]\n",
    "    \n",
    "    # Геокодирование если нет в кэше\n",
    "    try:\n",
    "        location = geolocator.geocode(f\"{city}\")\n",
    "        if location:\n",
    "            result = [location.latitude, location.longitude]\n",
    "        else:\n",
    "            result = [None, None]\n",
    "    except Exception:\n",
    "        result = [None, None]\n",
    "    \n",
    "    # Обновляем кэш\n",
    "    cache[city] = result\n",
    "    return result\n",
    "\n",
    "# Сохранение кэша в файл\n",
    "def save_cache(cache):\n",
    "    with open(CACHE_FILE, 'w', encoding='utf-8') as f:\n",
    "        json.dump(cache, f, ensure_ascii=False, indent=2)"
   ]
  },
  {
   "cell_type": "code",
   "execution_count": 27,
   "id": "62881b02",
   "metadata": {},
   "outputs": [
    {
     "name": "stdout",
     "output_type": "stream",
     "text": [
      "#  Москва [55.625578, 37.6063916]\n",
      "#  Самара [53.1956255, 50.1014927]\n",
      "#  Уфа [54.7261409, 55.947499]\n",
      "#  Ташкент [41.3123363, 69.2787079]\n",
      "#  Чита [52.033409, 113.500893]\n",
      "#  Стамбул [41.006381, 28.9758715]\n"
     ]
    }
   ],
   "source": [
    "city_list = ['Москва', 'Самара','Уфа','Ташкент', 'Чита','Стамбул']\n",
    "cache = load_cache()\n",
    "\n",
    "for city in city_list:\n",
    "    if city in cache:\n",
    "        print('# ',city, cache[city])\n",
    "    else:\n",
    "        print(city, ' is not in cache')\n",
    "        result = get_geopoints(city, cache)\n",
    "        if result:\n",
    "            cache[city] = result\n",
    "\n",
    "save_cache(cache)\n"
   ]
  }
 ],
 "metadata": {
  "kernelspec": {
   "display_name": ".venv",
   "language": "python",
   "name": "python3"
  },
  "language_info": {
   "codemirror_mode": {
    "name": "ipython",
    "version": 3
   },
   "file_extension": ".py",
   "mimetype": "text/x-python",
   "name": "python",
   "nbconvert_exporter": "python",
   "pygments_lexer": "ipython3",
   "version": "3.12.8"
  }
 },
 "nbformat": 4,
 "nbformat_minor": 5
}
