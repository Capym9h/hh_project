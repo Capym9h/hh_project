{
 "cells": [
  {
   "cell_type": "code",
   "execution_count": null,
   "id": "93e117a4",
   "metadata": {},
   "outputs": [],
   "source": [
    "import pandas as pd\n",
    "import requests"
   ]
  },
  {
   "cell_type": "code",
   "execution_count": 26,
   "id": "ec80a30e",
   "metadata": {},
   "outputs": [],
   "source": [
    "import json\n",
    "import requests\n",
    "from time import sleep\n",
    "from dotenv import dotenv_values\n",
    "\n",
    "JOB_TITLE = 'Аналитик данных'\n",
    "USER_AGENT = dotenv_values('.env')['USER_AGENT']\n",
    "BASE_URL='https://api.hh.ru/vacancies'\n",
    "PER_PAGE = 100\n",
    "header = {'User-Agent':USER_AGENT}\n",
    "\n",
    "def get_vacancies_id(header:dict, param:dict=None, URL:str='https://api.hh.ru/vacancies', per_page:int=100, time_delay:float=0)->json:\n",
    "    sleep(time_delay)\n",
    "    return requests.get(url=URL, headers=header, params=param).json()\n",
    "\n",
    "res = get_vacancies_id(header=header, URL=BASE_URL+f'/121091720', time_delay=0.2)\n",
    "\n",
    "desc = res.get('description')"
   ]
  },
  {
   "cell_type": "code",
   "execution_count": 27,
   "id": "6edb1063",
   "metadata": {},
   "outputs": [
    {
     "data": {
      "text/plain": [
       "'<p><strong>НАЙМ НА СРОЧНЫЙ ТРУДОВОЙ ДОГОВОР В ООО «ПРОКТЕР ЭНД ГЭМБЛ ДИСТРИБЬЮТОРСКАЯ КОМПАНИЯ»</strong></p> <p>Хочешь использовать силу данных для достижения бизнес-результатов? Являешься любознательным человеком, увлеченным анализом запросов потребителей? Умеешь находить суть в потоке информации и выделять то, что действительно важно? Тогда стажировка в аналитике данных в P&amp;G — для тебя! </p> <p>Бизнес-аналитика — это передовая функция, которая стремительно развивается в P&amp;G в Восточной Европе. Эта роль позволит тебе формировать будущее аналитики в ведущей международной компании. С первого дня при поддержке менеджера ты будешь руководить собственными проектами, включая анализ бизнес-показателей, моделирование роста доходов, аналитику потребителей на основе данных и многое другое. Мы предоставим тебе возможность взаимодействовать с коллегами из разных подразделений. Эта позиция даст тебе глубокое понимание корпоративной культуры P&amp;G и развоьет твои навыки бизнес-лидера. </p> <p>Обязанности: </p> <ul> <li> <p>Создание и развитие аналитических программ или инструментов, представление прогресса и результатов бизнес-единицы/категории/региона руководству. </p> </li> </ul> <ul> <li> <p>Анализ данных для создания ценности в бизнесе. </p> </li> </ul> <ul> <li> <p>Понимание потребности в твоем аналитическом инструменте, что позволит предвидеть бизнес-процессы и предоставить точный анализ, помогающий получить релевантные инсайты. </p> </li> </ul> <ul> <li> <p>Использование инструментов для визуализации данных (Power BI, Excel) и аналитических инструментов (Python, R, SQL, KNIME). </p> </li> </ul> <ul> <li> <p>Сотрудничество с многофункциональными командами (маркетинг, финансы, IT, продажи), внедрение в их работу аналитических инструментов и основанных на данных инсайтов. </p> </li> </ul> <p>Мы предлагаем: </p> <ul> <li> <p>Конкурентоспособную заработную плату\\u202f100 000 рублей\\u202fгросс на стажировке </p> </li> </ul> <ul> <li> <p>Ежемесячное субсидирование расходов на питание 5 000 рублей до вычета налогов </p> </li> </ul> <ul> <li> <p>Гибкий режим рабочего дня и возможность работать из дома </p> </li> </ul> <ul> <li> <p>Поддержку при переезде (в случае переезда на расстояние более 50 км от места постоянного проживания) </p> </li> </ul> <ul> <li> <p>Программу корпоративных скидок и привилегий PrimeZone </p> </li> </ul> <p>Мы ожидаем: </p> <ul> <li> <p>Ты готов(а) к переезду в Москву при поддержке компании (или уже находишься в Москве) </p> </li> </ul> <ul> <li> <p>Учишься на последнем курсе бакалавриата или специалитета, любом курсе магистратуры или являешься недавним выпускником (до 2 лет после выпуска) </p> </li> </ul> <ul> <li> <p>Владеешь английским языком на уровне Upper-Intermediate (B2) и выше </p> </li> </ul> <ul> <li> <p>Образование в области статистики, математики, прикладной информатики, Data Science, управления бизнесом или смежных областях будет преимуществом. </p> </li> </ul> <ul> <li> <p>Предыдущий опыт работы с некоторыми из следующих инструментов будет преимуществом: научные или статистические вычисления (Python, R), SQL и экосистема больших данных (Hadoop, Azure), инструменты бизнес-аналитики (KNIME, Power BI, Tableau, Spotfire). </p> </li> </ul> <ul> <li> <p>Обладаешь развитыми лидерскими качествами и способностью к командной работе. </p> </li> </ul> <ul> <li> <p>Имеешь отличные межличностные навыки и проактивный подход к работе. </p> </li> </ul> <ul> <li> <p>Готов(а) к работе 40 часов в неделю </p> </li> </ul> <p>Дополнительная информация </p> <ul> <li> <p>Все отклики на вакансии рассматриваются вне зависимости от расы, возраста, религии, национального происхождения, семейного положения, гражданства или возможностей здоровья кандидата. </p> </li> </ul> <ul> <li> <p>Для этой должности не предусмотрена иммиграционная поддержка. </p> </li> </ul> <p>P&amp;G — один из крупнейших мировых производителей непродовольственных товаров. Нашим потребителям и сотрудникам мы предлагаем самые передовые идеи и решения. Работа нашей команды подчинена целям, принципам и ценностям, которые позволяют менять мир и жизни людей вокруг нас к лучшему. Мы поможем раскрыть твой потенциал в той области, в которой ты хочешь развиваться. </p> <p> </p>'"
      ]
     },
     "execution_count": 27,
     "metadata": {},
     "output_type": "execute_result"
    }
   ],
   "source": [
    "desc"
   ]
  },
  {
   "cell_type": "code",
   "execution_count": 25,
   "id": "d2ec8c55",
   "metadata": {},
   "outputs": [],
   "source": [
    "prog_lang_list = ['python', 'java', 'javascript', ' js ', 'c++', 'c#', 'c', 'rust', 'r', '1c', 'vba']\n",
    "sql_list = ['postgresql', 'clickhouse', 'mysql', 'greenplum', 'hadoop', 'spark', 'sql']\n",
    "lib_list = ['scipy', 'pandas', 'numpy', 'scikit', 'tensorflow', 'keras', 'matplotlib', 'seaborn', 'pingouin', 'scrapy', 'nltk', 'pattern']\n",
    "vis_list = ['power bi', 'superset', 'datalens', 'redash', 'tableau', 'qlikview', 'bi']\n",
    "sup_list = ['git', 'gitlab', 'github','airflow','docker', 'dockerhub', 'ms', 'excel', 'word', 'google sheets', 'confluence','ms', 'excel', 'word', 'google sheets', 'confluence','a/b', 'а/в']"
   ]
  },
  {
   "cell_type": "code",
   "execution_count": 28,
   "id": "bbaad25c",
   "metadata": {},
   "outputs": [
    {
     "name": "stdout",
     "output_type": "stream",
     "text": [
      "prog python\n",
      "prog c\n",
      "prog r\n",
      "prog power bi\n",
      "prog tableau\n",
      "prog bi\n",
      "prog excel\n",
      "prog excel\n"
     ]
    }
   ],
   "source": [
    "for word in prog_lang_list:\n",
    "    if word in desc.lower():\n",
    "        print('prog', word)\n",
    "\n",
    "for word in sql_list:\n",
    "    if word in desc:\n",
    "        print('prog', word)\n",
    "\n",
    "for word in lib_list:\n",
    "    if word in desc.lower():\n",
    "        print('prog', word)\n",
    "\n",
    "for word in vis_list:\n",
    "    if word in desc.lower():\n",
    "        print('prog', word)\n",
    "\n",
    "for word in sup_list:\n",
    "    if word in desc.lower():\n",
    "        print('prog', word)"
   ]
  }
 ],
 "metadata": {
  "kernelspec": {
   "display_name": "hhvenv",
   "language": "python",
   "name": "python3"
  },
  "language_info": {
   "codemirror_mode": {
    "name": "ipython",
    "version": 3
   },
   "file_extension": ".py",
   "mimetype": "text/x-python",
   "name": "python",
   "nbconvert_exporter": "python",
   "pygments_lexer": "ipython3",
   "version": "3.12.3"
  }
 },
 "nbformat": 4,
 "nbformat_minor": 5
}
