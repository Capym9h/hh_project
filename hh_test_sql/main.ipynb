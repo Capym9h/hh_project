{
 "cells": [
  {
   "cell_type": "code",
   "execution_count": 1,
   "id": "7c4ec23e",
   "metadata": {},
   "outputs": [],
   "source": [
    "import sqlite3\n",
    "import pandas as pd \n",
    "import numpy as np"
   ]
  },
  {
   "cell_type": "markdown",
   "id": "16a0b50f",
   "metadata": {},
   "source": [
    "# SQL commands"
   ]
  },
  {
   "cell_type": "code",
   "execution_count": null,
   "id": "2773ab5e",
   "metadata": {},
   "outputs": [],
   "source": [
    "create_tables = [\n",
    "'''CREATE TABLE IF NOT EXISTS vac (\n",
    "        vac_id INTEGER PRIMARY KEY,\n",
    "        vac_name TEXT,\n",
    "        date TEXT,\n",
    "        emp_id INTEGER\n",
    "    );''',\n",
    "'''CREATE TABLE IF NOT EXISTS emp (\n",
    "        emp_id INTEGER PRIMARY KEY,\n",
    "        city TEXT,\n",
    "        is_trust INTEGER\n",
    "    );\n",
    "''',\n",
    "'''CREATE TABLE IF NOT EXISTS sal (\n",
    "        vac_id INTEGER PRIMARY KEY,\n",
    "        salary_from INTEGER,\n",
    "        salary_to INTEGER,\n",
    "        gross INTEGER\n",
    "    )\n",
    "''']\n",
    "\n",
    "union_tables = ['''\n",
    "select * from emp\n",
    "union\n",
    "select * from (\n",
    "\t\tselect * from emp_df\n",
    "\t\texcept\n",
    "\t\tselect * from emp) t;\n",
    "''',\n",
    "\n",
    "'''\n",
    "select * from vac\n",
    "union\n",
    "select * from (\n",
    "\t\tselect * from vac_df\n",
    "\t\texcept\n",
    "\t\tselect * from vac) t\n",
    "''',\n",
    "\n",
    "'''\n",
    "select * from sal\n",
    "union\n",
    "select * from (\n",
    "\t\tselect * from sal_df\n",
    "\t\texcept\n",
    "\t\tselect * from sal) t\n",
    "''']\n",
    "\n"
   ]
  },
  {
   "cell_type": "markdown",
   "id": "65613032",
   "metadata": {},
   "source": [
    "--- "
   ]
  },
  {
   "cell_type": "markdown",
   "id": "2303bbbc",
   "metadata": {},
   "source": [
    "#"
   ]
  },
  {
   "cell_type": "code",
   "execution_count": 25,
   "id": "97a7c7d0",
   "metadata": {},
   "outputs": [],
   "source": [
    "DBNAME = 'my.db'"
   ]
  },
  {
   "cell_type": "code",
   "execution_count": 26,
   "id": "6a2cf35b",
   "metadata": {},
   "outputs": [],
   "source": [
    "def to_database(sqL_command:str, database_name:str):\n",
    "    try:\n",
    "        conn = sqlite3.connect(database_name)\n",
    "        with conn:\n",
    "            cur = conn.cursor()\n",
    "            cur.execute(sqL_command)\n",
    "            res = cur.fetchall()\n",
    "            conn.commit()\n",
    "    except Exception as e:\n",
    "        print(e)\n",
    "    conn.close()"
   ]
  },
  {
   "cell_type": "code",
   "execution_count": 33,
   "id": "7d0d885d",
   "metadata": {},
   "outputs": [],
   "source": [
    "vac_df = pd.DataFrame({\n",
    "    'vac_id':[1856, 1765, 6901, 9301],\n",
    "    'vac_name':['бизнес аналитик','BI аналитик','BI аналитик','системный аналитик'],\n",
    "    'date':['2025-01-20','2025-01-21','2025-01-22','2025-01-23'],\n",
    "    'emp_id':[4,5,5,8]\n",
    "})\n",
    "\n",
    "emp_df = pd.DataFrame({\n",
    "    'emp_id':[4,5,5,8],\n",
    "    'city':['Kaliningrad','SpB','SpB','Kazan'],\n",
    "    'is_trust':[1,0,0,1]\n",
    "})\n",
    "\n",
    "sal_df = pd.DataFrame({\n",
    "    'vac_id':[1856, 1765, 6901, 9301],\n",
    "    'salary_from':[110000, 67900, 85000, 260000],\n",
    "    'salary_to':[155000, 89900, 95000, 365000],\n",
    "    'gross':[0,0,1,1]\n",
    "})"
   ]
  },
  {
   "cell_type": "code",
   "execution_count": 35,
   "id": "f2e47ed4",
   "metadata": {},
   "outputs": [],
   "source": [
    "with sqlite3.connect(DBNAME) as conn:\n",
    "    vac_df.to_sql('vac_df', con=conn, if_exists='replace', index= False)\n",
    "    emp_df.to_sql('emp_df', con=conn, if_exists='replace', index = False)\n",
    "    sal_df.to_sql('sal_df', con=conn, if_exists='replace', index = False)\n",
    "conn.close()\n",
    "\n",
    "for command in create_tables:\n",
    "    to_database(command, DBNAME)"
   ]
  },
  {
   "cell_type": "code",
   "execution_count": null,
   "id": "1b6317c9",
   "metadata": {},
   "outputs": [],
   "source": []
  }
 ],
 "metadata": {
  "kernelspec": {
   "display_name": "dev_venv",
   "language": "python",
   "name": "python3"
  },
  "language_info": {
   "codemirror_mode": {
    "name": "ipython",
    "version": 3
   },
   "file_extension": ".py",
   "mimetype": "text/x-python",
   "name": "python",
   "nbconvert_exporter": "python",
   "pygments_lexer": "ipython3",
   "version": "3.12.8"
  }
 },
 "nbformat": 4,
 "nbformat_minor": 5
}
