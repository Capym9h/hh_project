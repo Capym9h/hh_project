{
 "cells": [
  {
   "cell_type": "code",
   "execution_count": 3,
   "id": "17950455",
   "metadata": {},
   "outputs": [
    {
     "name": "stdout",
     "output_type": "stream",
     "text": [
      "Координаты центра: 56.4887526, 84.9523434\n",
      "{'place_id': 201214899, 'licence': 'Data © OpenStreetMap contributors, ODbL 1.0. http://osm.org/copyright', 'osm_type': 'relation', 'osm_id': 7261645, 'lat': '56.4887526', 'lon': '84.9523434', 'class': 'place', 'type': 'city', 'place_rank': 16, 'importance': 0.608877673585454, 'addresstype': 'city', 'name': 'Томск', 'display_name': 'Томск, городской округ Томск, Томская область, Сибирский федеральный округ, 634000, Россия', 'boundingbox': ['56.3793680', '56.5705856', '84.8275215', '85.1495558']}\n"
     ]
    }
   ],
   "source": [
    "from geopy.geocoders import Nominatim\n",
    "\n",
    "# Инициализация геокодера\n",
    "geolocator = Nominatim(user_agent=\"geoapi\")\n",
    "\n",
    "try:\n",
    "    location = geolocator.geocode(\"томск, Россия\")\n",
    "    print(f\"Координаты центра: {location.latitude}, {location.longitude}\")\n",
    "except Exception as e:\n",
    "    print(e)\n",
    "# Полный ответ с деталями\n",
    "print(location.raw) "
   ]
  },
  {
   "cell_type": "code",
   "execution_count": null,
   "id": "ad11cff0",
   "metadata": {},
   "outputs": [
    {
     "name": "stdout",
     "output_type": "stream",
     "text": [
      "['РјРѕСЃРєРІР° [10,10]\\n', 'РЎР°РЅРєС‚ РџРµС‚РµСЂР±СѓСЂРі [18,18]\\n', 'РўРѕРјСЃРє [90,90]']\n"
     ]
    }
   ],
   "source": [
    "import os\n",
    "import json\n",
    "\n",
    "CACHE_FILE = \"resource/geo_cache.json\"`\n",
    "geolocator = Nominatim(user_agent=\"geoapi\", timeout=10)\n",
    "\n",
    "# Загрузка кэша из файла\n",
    "def load_cache():\n",
    "    if os.path.exists(CACHE_FILE):\n",
    "        try:\n",
    "            with open(CACHE_FILE, 'r', encoding='utf-8') as f:\n",
    "                return json.load(f)\n",
    "        except:\n",
    "            return {}\n",
    "    return {}"
   ]
  },
  {
   "cell_type": "markdown",
   "id": "70a77952",
   "metadata": {},
   "source": [
    "---\n",
    "---"
   ]
  },
  {
   "cell_type": "code",
   "execution_count": null,
   "id": "a87e503f",
   "metadata": {},
   "outputs": [],
   "source": [
    "import json\n",
    "import os\n",
    "from geopy.geocoders import Nominatim\n",
    "import pandas as pd\n",
    "\n",
    "# Конфигурация\n",
    "CACHE_FILE = \"geo_cache.json\"\n",
    "geolocator = Nominatim(user_agent=\"geoapi\", timeout=10)\n",
    "\n",
    "# Загрузка кэша из файла\n",
    "def load_cache():\n",
    "    if os.path.exists(CACHE_FILE):\n",
    "        try:\n",
    "            with open(CACHE_FILE, 'r', encoding='utf-8') as f:\n",
    "                return json.load(f)\n",
    "        except:\n",
    "            return {}\n",
    "    return {}\n",
    "\n",
    "# Сохранение кэша в файл\n",
    "def save_cache(cache):\n",
    "    with open(CACHE_FILE, 'w', encoding='utf-8') as f:\n",
    "        json.dump(cache, f, ensure_ascii=False, indent=2)\n",
    "\n",
    "# Получение координат с использованием кэша\n",
    "def get_geopoints(city: str, cache: dict) -> tuple:\n",
    "    if not city or pd.isna(city):\n",
    "        return (None, None)\n",
    "    \n",
    "    # Проверяем кэш\n",
    "    if city in cache:\n",
    "        return tuple(cache[city])\n",
    "    \n",
    "    # Геокодирование если нет в кэше\n",
    "    try:\n",
    "        location = geolocator.geocode(f\"{city}, Россия\")\n",
    "        if location:\n",
    "            result = (location.latitude, location.longitude)\n",
    "        else:\n",
    "            result = (None, None)\n",
    "    except Exception:\n",
    "        result = (None, None)\n",
    "    \n",
    "    # Обновляем кэш\n",
    "    cache[city] = result\n",
    "    return result\n",
    "\n",
    "# Основная функция обработки DataFrame\n",
    "def process_geodata(df: pd.DataFrame) -> pd.DataFrame:\n",
    "    cache = load_cache()\n",
    "    cache_updated = False\n",
    "    \n",
    "    # Применяем только к строкам с отсутствующими геоданными\n",
    "    mask = df['geo'].isna()\n",
    "    \n",
    "    for idx in df.index[mask]:\n",
    "        city = df.at[idx, 'city']\n",
    "        if pd.notna(city):\n",
    "            # Получаем координаты (обновляем кэш внутри функции)\n",
    "            new_geo = get_geopoints(city, cache)\n",
    "            df.at[idx, 'geo'] = new_geo\n",
    "            cache_updated = True\n",
    "    \n",
    "    # Сохраняем кэш если были изменения\n",
    "    if cache_updated:\n",
    "        save_cache(cache)\n",
    "        \n",
    "    return df\n",
    "\n",
    "# Использование\n",
    "full_df = process_geodata(full_df)"
   ]
  },
  {
   "cell_type": "code",
   "execution_count": null,
   "id": "45de274e",
   "metadata": {},
   "outputs": [],
   "source": [
    "{\n",
    "  \"Москва\": [55.7504461, 37.6174943],\n",
    "  \"Санкт-Петербург\": [59.938732, 30.316229],\n",
    "  \"Новосибирск\": [55.008352, 82.935732],\n",
    "  \"Екатеринбург\": [56.838002, 60.597295]\n",
    "}"
   ]
  }
 ],
 "metadata": {
  "kernelspec": {
   "display_name": "hhvenv",
   "language": "python",
   "name": "python3"
  },
  "language_info": {
   "codemirror_mode": {
    "name": "ipython",
    "version": 3
   },
   "file_extension": ".py",
   "mimetype": "text/x-python",
   "name": "python",
   "nbconvert_exporter": "python",
   "pygments_lexer": "ipython3",
   "version": "3.12.3"
  }
 },
 "nbformat": 4,
 "nbformat_minor": 5
}
