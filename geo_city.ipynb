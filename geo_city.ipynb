{
 "cells": [
  {
   "cell_type": "code",
   "execution_count": null,
   "id": "d76cf168",
   "metadata": {},
   "outputs": [],
   "source": [
    "%pip install geopy"
   ]
  },
  {
   "cell_type": "code",
   "execution_count": 5,
   "id": "17950455",
   "metadata": {},
   "outputs": [
    {
     "name": "stdout",
     "output_type": "stream",
     "text": [
      "Координаты центра: 55.7136, 84.934799\n",
      "{'place_id': 201975429, 'licence': 'Data © OpenStreetMap contributors, ODbL 1.0. http://osm.org/copyright', 'osm_type': 'relation', 'osm_id': 3396612, 'lat': '55.7136000', 'lon': '84.9347990', 'class': 'place', 'type': 'town', 'place_rank': 18, 'importance': 0.5214094955471994, 'addresstype': 'town', 'name': 'Юрга', 'display_name': 'Юрга, Юргинский городской округ, Кемеровская область, Сибирский федеральный округ, Россия', 'boundingbox': ['55.6743708', '55.7656786', '84.7988863', '85.0163092']}\n"
     ]
    }
   ],
   "source": [
    "from geopy.geocoders import Nominatim\n",
    "\n",
    "# Инициализация геокодера\n",
    "geolocator = Nominatim(user_agent=\"geoapi\")\n",
    "\n",
    "# Получение координат центра Москвы\n",
    "location = geolocator.geocode(\"Юрга, Россия\")\n",
    "print(f\"Координаты центра: {location.latitude}, {location.longitude}\")\n",
    "\n",
    "# Полный ответ с деталями\n",
    "print(location.raw) "
   ]
  }
 ],
 "metadata": {
  "kernelspec": {
   "display_name": "hhvenv",
   "language": "python",
   "name": "python3"
  },
  "language_info": {
   "codemirror_mode": {
    "name": "ipython",
    "version": 3
   },
   "file_extension": ".py",
   "mimetype": "text/x-python",
   "name": "python",
   "nbconvert_exporter": "python",
   "pygments_lexer": "ipython3",
   "version": "3.12.3"
  }
 },
 "nbformat": 4,
 "nbformat_minor": 5
}
