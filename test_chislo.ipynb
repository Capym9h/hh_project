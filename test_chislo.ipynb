{
 "cells": [
  {
   "cell_type": "code",
   "execution_count": null,
   "id": "3413d13b",
   "metadata": {},
   "outputs": [],
   "source": [
    "# %pip install tqdm"
   ]
  },
  {
   "cell_type": "code",
   "execution_count": 41,
   "id": "09ee3fa6",
   "metadata": {},
   "outputs": [],
   "source": [
    "import json\n",
    "import requests\n",
    "import numpy as np\n",
    "import pandas as pd\n",
    "from tqdm import tqdm\n",
    "from time import sleep\n",
    "import psycopg2\n",
    "from dotenv import dotenv_values"
   ]
  },
  {
   "cell_type": "code",
   "execution_count": 42,
   "id": "341868f9",
   "metadata": {},
   "outputs": [],
   "source": [
    "def get_vacancies_id(header:dict, param:dict=None, URL:str='https://api.hh.ru/vacancies', per_page:int=100, time_dalay:float=0)->json:\n",
    "    sleep(time_dalay)\n",
    "    return requests.get(url=URL, headers=header, params=param).json()"
   ]
  },
  {
   "cell_type": "code",
   "execution_count": 43,
   "id": "d489b8fe",
   "metadata": {},
   "outputs": [],
   "source": [
    "JOB_TITLE = 'Аналитик данных'\n",
    "\n",
    "USER_AGENT = dotenv_values('.env')['USER_AGENT']\n",
    "BASE_URL='https://api.hh.ru/vacancies'\n",
    "\n",
    "PER_PAGE = 100\n",
    "\n",
    "header = {'User-Agent':USER_AGENT}\n",
    "param = {'text': JOB_TITLE,\n",
    "          'search_field': 'name',\n",
    "          'page': 0,\n",
    "          'per_page': PER_PAGE,\n",
    "          'only_with_salary': True,\n",
    "          'locale': 'RU'}"
   ]
  },
  {
   "cell_type": "code",
   "execution_count": 44,
   "id": "88d4cde1",
   "metadata": {},
   "outputs": [
    {
     "data": {
      "text/plain": [
       "(233, 3, 0)"
      ]
     },
     "execution_count": 44,
     "metadata": {},
     "output_type": "execute_result"
    }
   ],
   "source": [
    "resp = get_vacancies_id(header, param, per_page=PER_PAGE)\n",
    "\n",
    "VAC_CNT = resp['found']\n",
    "PAGES_CNT = resp['pages']\n",
    "current_page = resp['page']\n",
    "VAC_CNT, PAGES_CNT, current_page"
   ]
  },
  {
   "cell_type": "code",
   "execution_count": 45,
   "id": "c256b560",
   "metadata": {},
   "outputs": [
    {
     "name": "stdout",
     "output_type": "stream",
     "text": [
      "It's all OK\n"
     ]
    }
   ],
   "source": [
    "vac_ids = []\n",
    "current_page = 0\n",
    "PAGES_CNT = 999\n",
    "\n",
    "while current_page <= PAGES_CNT-1:\n",
    "    resp = get_vacancies_id(header, param, per_page=PER_PAGE)\n",
    "    current_page = resp['page']\n",
    "    PAGES_CNT = resp['pages']\n",
    "\n",
    "    for item in resp['items']:\n",
    "        vac_ids.append(item['id'])\n",
    "\n",
    "    param['page'] = current_page + 1\n",
    "    resp = get_vacancies_id(header, param, per_page=PER_PAGE)\n",
    "    current_page = resp['page']\n",
    "\n",
    "\n",
    "print(\"It's all OK\" if len(set(vac_ids)) == VAC_CNT else f\"Smt went WRONG\\n{len(set(vac_ids))}___{VAC_CNT}\")"
   ]
  },
  {
   "cell_type": "code",
   "execution_count": null,
   "id": "fb6168de",
   "metadata": {},
   "outputs": [],
   "source": [
    "vacancies_df    = pd.DataFrame(columns=['vac_id',\n",
    "                                        'vac_name',\n",
    "                                        'city',\n",
    "                                        'published_at',\n",
    "                                        'archived',\n",
    "                                        'expirience'\n",
    "                                        'alternate_url',\n",
    "                                        'employer_id',\n",
    "                                        'employer_name',\n",
    "                                        'schedule_name',\n",
    "                                        'employment_name',\n",
    "                                        'prof_role',\n",
    "                                        'work_format',\n",
    "                                        'work_hour',\n",
    "                                        'work_schedule_by_days'] )\n",
    "\n",
    "salary_df       = pd.DataFrame(columns=['vac_id',\n",
    "                                        'salary_from',\n",
    "                                        'salary_to',\n",
    "                                        'currency',\n",
    "                                        'gross',\n",
    "                                        'range_mode_name',\n",
    "                                        'frequency'])\n",
    "\n",
    "requerments_df  = pd.DataFrame(columns=['vac_id',\n",
    "                                        'response_letter',\n",
    "                                        'has_test',\n",
    "                                        'descriptions',\n",
    "                                        'key_skills'])\n",
    "\n",
    "\n",
    "for vac_id in tqdm(vac_ids,desc='GET vacancies annotate'):\n",
    "    vac_resp = get_vacancies_id(header, URL=BASE_URL+'/'+vac_id, time_dalay=0.5)\n",
    "    \n",
    "\n",
    "    vacancies_df.loc[len(vacancies_df)] = [vac_resp['id'], \\\n",
    "                                           vac_resp['name'], \\\n",
    "                                           vac_resp['area']['name'], \\\n",
    "                                           vac_resp['published_at'], \\\n",
    "                                           vac_resp['archived'], \\\n",
    "                                           vac_resp['experience']['name'], \\\n",
    "                                           vac_resp['alternate_url'], \\\n",
    "                                           vac_resp['employer']['id'], \\\n",
    "                                           vac_resp['employer']['name'], \\\n",
    "                                           vac_resp['schedule']['name'], \\\n",
    "                                           vac_resp['employment']['name'], \\\n",
    "                                           vac_resp['professional_roles'], \\\n",
    "                                           vac_resp['work_format'], \\\n",
    "                                           vac_resp['working_hours'], \\\n",
    "                                           vac_resp['work_schedule_by_days']]\n",
    "    \n",
    "    salary_df.loc[len(salary_df)] = [vac_resp['id'], \\\n",
    "                                     vac_resp['salary']['from'], \\\n",
    "                                     vac_resp['salary']['to'], \\\n",
    "                                     vac_resp['salary']['currency'], \\\n",
    "                                     vac_resp['salary']['gross'], \\\n",
    "                                     vac_resp['salary_range']['mode']['id'], \\\n",
    "                                     vac_resp['salary_range']['frequency']['name']\n",
    "                                    ]\n",
    "    \n",
    "    requerments_df.loc[len(requerments_df)] = [vac_resp['id'], \\\n",
    "                                           vac_resp['response_letter_required'], \\\n",
    "                                           vac_resp['has_test'],\n",
    "                                           vac_resp['description'],\\\n",
    "                                           vac_resp['key_skills']\n",
    "                                        ]"
   ]
  },
  {
   "cell_type": "code",
   "execution_count": 40,
   "id": "5e73bce5",
   "metadata": {},
   "outputs": [
    {
     "data": {
      "text/plain": [
       "{'id': '120585923',\n",
       " 'premium': False,\n",
       " 'billing_type': {'id': 'standard', 'name': 'Стандарт'},\n",
       " 'relations': [],\n",
       " 'name': 'Аналитик данных',\n",
       " 'insider_interview': None,\n",
       " 'response_letter_required': False,\n",
       " 'area': {'id': '1', 'name': 'Москва', 'url': 'https://api.hh.ru/areas/1'},\n",
       " 'salary': {'from': 40000, 'to': None, 'currency': 'RUR', 'gross': False},\n",
       " 'salary_range': {'from': 40000,\n",
       "  'to': None,\n",
       "  'currency': 'RUR',\n",
       "  'gross': False,\n",
       "  'mode': {'id': 'MONTH', 'name': 'За\\xa0месяц'},\n",
       "  'frequency': None},\n",
       " 'type': {'id': 'open', 'name': 'Открытая'},\n",
       " 'address': None,\n",
       " 'allow_messages': True,\n",
       " 'experience': {'id': 'between1And3', 'name': 'От 1 года до 3 лет'},\n",
       " 'schedule': {'id': 'remote', 'name': 'Удаленная работа'},\n",
       " 'employment': {'id': 'part', 'name': 'Частичная занятость'},\n",
       " 'department': None,\n",
       " 'show_contacts': False,\n",
       " 'contacts': None,\n",
       " 'description': '<p><strong>KMA.BIZ</strong> (KissMyAds) — одна из крупнейших российских товарных партнерских программ, основана в 2013 году(арбитраж). И дочерняя компания call media (колл-центр, продают товары для красоты и здоровья)</p> <p>У нас есть собственная линейка товаров для здоровья и красоты и партнерская программа по их продвижению. Мы обеспечиваем полный цикл создания и развития своих офферов, начиная от разработки продуктовой и маркетинговой концепций, и заканчивая обработкой заявок собственным call-центром и доставкой товаров клиентам.</p> <strong>Обязанности:</strong> <ul> <li> <p>Поддержание пайплайна проекта; </p> </li> <li> <p>Оптимизация существующих моделей;</p> </li> <li> <p>Создание новых подходов для аналитики.</p> </li> </ul> <strong>Требования:</strong> <ul> <li> <p>Опыт работы аналитиком данных/дата-инженером от года\\u200b\\u200b\\u200b\\u200b\\u200b\\u200b\\u200b<strong>;</strong></p> </li> <li> <p>Знание Python, SQL, GIT, Airflow, API, умение оптимизировать существующие запросы;</p> </li> <li> <p><strong>Работа с маркетплейсами - огромный плюс.</strong></p> </li> </ul> <strong>Условия:</strong> <ul> <li>Частичная занятость - 4 часа в неделю;</li> <li>Оформление по ГПХ.</li> </ul>',\n",
       " 'branded_description': None,\n",
       " 'vacancy_constructor_template': None,\n",
       " 'key_skills': [{'name': 'Python'},\n",
       "  {'name': 'SQL'},\n",
       "  {'name': 'Git'},\n",
       "  {'name': 'API'},\n",
       "  {'name': 'JSON'},\n",
       "  {'name': 'pandas'},\n",
       "  {'name': 'SQLAlchemy'}],\n",
       " 'accept_handicapped': False,\n",
       " 'accept_kids': False,\n",
       " 'archived': False,\n",
       " 'response_url': None,\n",
       " 'specializations': [],\n",
       " 'professional_roles': [{'id': '156', 'name': 'BI-аналитик, аналитик данных'}],\n",
       " 'code': None,\n",
       " 'hidden': False,\n",
       " 'quick_responses_allowed': False,\n",
       " 'driver_license_types': [],\n",
       " 'accept_incomplete_resumes': False,\n",
       " 'employer': {'id': '4069385',\n",
       "  'name': 'Callmedia',\n",
       "  'url': 'https://api.hh.ru/employers/4069385',\n",
       "  'alternate_url': 'https://hh.ru/employer/4069385',\n",
       "  'logo_urls': {'original': 'https://img.hhcdn.ru/employer-logo-original/1096420.png',\n",
       "   '90': 'https://img.hhcdn.ru/employer-logo/6006301.png',\n",
       "   '240': 'https://img.hhcdn.ru/employer-logo/6006302.png'},\n",
       "  'vacancies_url': 'https://api.hh.ru/vacancies?employer_id=4069385',\n",
       "  'accredited_it_employer': False,\n",
       "  'trusted': True},\n",
       " 'published_at': '2025-05-15T13:14:18+0300',\n",
       " 'created_at': '2025-05-15T13:14:18+0300',\n",
       " 'initial_created_at': '2025-05-15T13:14:18+0300',\n",
       " 'negotiations_url': None,\n",
       " 'suitable_resumes_url': None,\n",
       " 'apply_alternate_url': 'https://hh.ru/applicant/vacancy_response?vacancyId=120585923',\n",
       " 'has_test': False,\n",
       " 'test': None,\n",
       " 'alternate_url': 'https://hh.ru/vacancy/120585923',\n",
       " 'working_days': [],\n",
       " 'working_time_intervals': [],\n",
       " 'working_time_modes': [],\n",
       " 'accept_temporary': False,\n",
       " 'languages': [],\n",
       " 'approved': True,\n",
       " 'employment_form': {'id': 'PART', 'name': 'Частичная'},\n",
       " 'fly_in_fly_out_duration': [],\n",
       " 'internship': False,\n",
       " 'night_shifts': False,\n",
       " 'work_format': [{'id': 'REMOTE', 'name': 'Удалённо'}],\n",
       " 'work_schedule_by_days': [{'id': 'FLEXIBLE', 'name': 'Свободный'}],\n",
       " 'working_hours': [{'id': 'FLEXIBLE', 'name': 'По\\xa0договорённости'}],\n",
       " 'show_logo_in_search': None}"
      ]
     },
     "execution_count": 40,
     "metadata": {},
     "output_type": "execute_result"
    }
   ],
   "source": [
    "vac_resp"
   ]
  }
 ],
 "metadata": {
  "kernelspec": {
   "display_name": "dev_venv",
   "language": "python",
   "name": "python3"
  },
  "language_info": {
   "codemirror_mode": {
    "name": "ipython",
    "version": 3
   },
   "file_extension": ".py",
   "mimetype": "text/x-python",
   "name": "python",
   "nbconvert_exporter": "python",
   "pygments_lexer": "ipython3",
   "version": "3.12.8"
  }
 },
 "nbformat": 4,
 "nbformat_minor": 5
}
