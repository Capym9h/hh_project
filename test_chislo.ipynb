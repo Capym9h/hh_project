{
 "cells": [
  {
   "cell_type": "code",
   "execution_count": 2,
   "id": "09ee3fa6",
   "metadata": {},
   "outputs": [],
   "source": [
    "import json\n",
    "import dotenv\n",
    "import requests\n",
    "import numpy as np\n",
    "import pandas as pd\n",
    "from time import sleep"
   ]
  },
  {
   "cell_type": "code",
   "execution_count": 3,
   "id": "341868f9",
   "metadata": {},
   "outputs": [],
   "source": [
    "def get_vacancies_id(header:dict, param:dict=None, URL:str='https://api.hh.ru/vacancies', per_page:int=100, time_dalay:float=0)->json:\n",
    "    sleep(time_dalay)\n",
    "    return requests.get(url=URL, headers=header, params=param).json()"
   ]
  },
  {
   "cell_type": "code",
   "execution_count": 4,
   "id": "d489b8fe",
   "metadata": {},
   "outputs": [],
   "source": [
    "JOB_TITLE = 'Аналитик данных'\n",
    "\n",
    "USER_AGENT = 'https://my_own_test_app.com/page (followtotherabbit@gmail.com)'\n",
    "BASE_URL='https://api.hh.ru/vacancies'\n",
    "\n",
    "PER_PAGE = 100\n",
    "\n",
    "header = {'User-Agent':USER_AGENT}\n",
    "param = {'text': JOB_TITLE,\n",
    "          'search_field': 'name',\n",
    "          'page': 0,\n",
    "          'per_page': PER_PAGE,\n",
    "          'only_with_salary': True,\n",
    "          'locale': 'RU'}"
   ]
  },
  {
   "cell_type": "code",
   "execution_count": 5,
   "id": "88d4cde1",
   "metadata": {},
   "outputs": [
    {
     "data": {
      "text/plain": [
       "(233, 3, 0)"
      ]
     },
     "execution_count": 5,
     "metadata": {},
     "output_type": "execute_result"
    }
   ],
   "source": [
    "resp = get_vacancies_id(header, param, per_page=PER_PAGE)\n",
    "\n",
    "VAC_CNT = resp['found']\n",
    "PAGES_CNT = resp['pages']\n",
    "current_page = resp['page']\n",
    "VAC_CNT, PAGES_CNT, current_page"
   ]
  },
  {
   "cell_type": "code",
   "execution_count": 6,
   "id": "c256b560",
   "metadata": {},
   "outputs": [
    {
     "name": "stdout",
     "output_type": "stream",
     "text": [
      "It's all OK\n"
     ]
    }
   ],
   "source": [
    "vac_ids = []\n",
    "current_page = 0\n",
    "PAGES_CNT = 999\n",
    "\n",
    "while current_page <= PAGES_CNT-1:\n",
    "    resp = get_vacancies_id(header, param, per_page=PER_PAGE)\n",
    "    current_page = resp['page']\n",
    "    PAGES_CNT = resp['pages']\n",
    "\n",
    "    for item in resp['items']:\n",
    "        vac_ids.append(item['id'])\n",
    "\n",
    "    param['page'] = current_page + 1\n",
    "    resp = get_vacancies_id(header, param, per_page=PER_PAGE)\n",
    "    current_page = resp['page']\n",
    "\n",
    "\n",
    "print(\"It's all OK\" if len(set(vac_ids)) == VAC_CNT else f\"Smt went WRONG\\n{len(set(vac_ids))}___{VAC_CNT}\")"
   ]
  },
  {
   "cell_type": "code",
   "execution_count": 26,
   "id": "fb6168de",
   "metadata": {},
   "outputs": [
    {
     "data": {
      "text/plain": [
       "{'id': '121218864',\n",
       " 'premium': False,\n",
       " 'billing_type': {'id': 'standard', 'name': 'Стандарт'},\n",
       " 'relations': [],\n",
       " 'name': 'Ведущий аналитик данных',\n",
       " 'insider_interview': None,\n",
       " 'response_letter_required': False,\n",
       " 'area': {'id': '47', 'name': 'Кемерово', 'url': 'https://api.hh.ru/areas/47'},\n",
       " 'salary': {'from': 116000, 'to': 116000, 'currency': 'RUR', 'gross': False},\n",
       " 'salary_range': {'from': 116000,\n",
       "  'to': 116000,\n",
       "  'currency': 'RUR',\n",
       "  'gross': False,\n",
       "  'mode': {'id': 'MONTH', 'name': 'За\\xa0месяц'},\n",
       "  'frequency': None},\n",
       " 'type': {'id': 'open', 'name': 'Открытая'},\n",
       " 'address': {'city': 'Кемерово',\n",
       "  'street': 'Карболитовская улица',\n",
       "  'building': '1/4',\n",
       "  'lat': 55.362644,\n",
       "  'lng': 86.05714,\n",
       "  'description': None,\n",
       "  'raw': 'Кемерово, Карболитовская улица, 1/4',\n",
       "  'metro': None,\n",
       "  'metro_stations': []},\n",
       " 'allow_messages': True,\n",
       " 'experience': {'id': 'between1And3', 'name': 'От 1 года до 3 лет'},\n",
       " 'schedule': {'id': 'fullDay', 'name': 'Полный день'},\n",
       " 'employment': {'id': 'full', 'name': 'Полная занятость'},\n",
       " 'department': None,\n",
       " 'show_contacts': True,\n",
       " 'contacts': None,\n",
       " 'description': '<strong>Обязанности:</strong> <ul> <li>Анализ информации, включая публичные источники, о ценах на цемент и иные строительные материалы, о механизмах ценообразования и причинах роста цен на стройматериалы в целях объективного отображения;</li> <li>Работа с массивами данных: поиск информации, выгрузка данных из информационных систем и открытых источников, объединение информации из различных источников, оптимизация, обработка и анализ массивов данных, презентация и визуализация полученных результатов анализа;</li> <li>Анализ информации из открытых источников, включая публикации в СМИ, аналитические и маркетинговые отчёты, на предмет корректности и объективности данных и изложения информации;</li> <li>Формирование и поддержание регулярной отчётности, сбор и обработка информации, полученной из различных внешних и внутренних источников, оптимизация текущей и разработка новой отчётности;</li> <li>Работа с внутренними базами данных, их оптимизация, автоматизация процессов;</li> <li>Мониторинг внедрения и соблюдения локальных нормативных актов, связанных с порядком ценообразования и отчётности;</li> <li>Осуществление всех необходимых расчетов и участие в разработке локальных нормативных актов, регламентирующих порядок ценообразования и отчётности;</li> <li>Осуществление контроля за исполнением локальных нормативных актов, регламентирующих порядок ценообразования и отчётности;</li> <li>Подготовка информационных и аналитических записок, отчетов и презентаций, связанных с процессом ценообразования и отчётностью.</li> </ul> <strong>Требования:</strong> <ul> <li>Высшее образование (экономист, маркетолог, аналитик, математик);</li> <li>Опыт работы в аналогичном направлении от 2-х лет;</li> <li>Отличное владение Microsoft Excel (обязательно);</li> <li> Знание Power Query, Power Pivot, Power BI;</li> <li>Умение работать с большими массивами данных (сбор, структурирование, консолидация, преобразование, аккумулирование, систематизация, анализ, визуализация);</li> <li>Умение грамотно и понятно излагать информацию в письменном виде и устно;</li> <li>Умение работать в режиме многозадачности;</li> <li>Аналитический склад ума;</li> <li>Приветствуется: умение работать в ERP Microsoft Dynamics AX, SPSS.</li> </ul> <strong>Условия:</strong> <ul> <li>Официальное трудоустройство, полный соц. пакет;</li> <li>График работы: 5/2 с 8-30 до 17-30, пятница - до 16-30;</li> <li>Доплата к ежегодному отпуску 50 % от оклада;</li> <li>Рассрочка на ДМС;</li> <li>Опытный наставник на период адаптации;</li> <li>Столовая и спортзал на территории офиса;</li> <li>Обучение и профессиональное развитие в собственном учебном центре.</li> </ul> <p><em>Срок рассмотрения резюме - 5 рабочих дней. Отсутствие ответа означает, что мы пока не готовы пригласить Вас на интервью.</em></p> <p><em>Благодарим за участие в конкурсе!</em></p> <p> </p> <p> </p>',\n",
       " 'branded_description': None,\n",
       " 'vacancy_constructor_template': None,\n",
       " 'key_skills': [],\n",
       " 'accept_handicapped': False,\n",
       " 'accept_kids': False,\n",
       " 'archived': False,\n",
       " 'response_url': None,\n",
       " 'specializations': [],\n",
       " 'professional_roles': [{'id': '156', 'name': 'BI-аналитик, аналитик данных'}],\n",
       " 'code': None,\n",
       " 'hidden': False,\n",
       " 'quick_responses_allowed': False,\n",
       " 'driver_license_types': [],\n",
       " 'accept_incomplete_resumes': False,\n",
       " 'employer': {'id': '9476',\n",
       "  'name': 'Сибирский цемент, Холдинговая компания',\n",
       "  'url': 'https://api.hh.ru/employers/9476',\n",
       "  'alternate_url': 'https://hh.ru/employer/9476',\n",
       "  'logo_urls': {'original': 'https://img.hhcdn.ru/employer-logo-original/230021.PNG',\n",
       "   '90': 'https://img.hhcdn.ru/employer-logo/745709.png',\n",
       "   '240': 'https://img.hhcdn.ru/employer-logo/745710.png'},\n",
       "  'vacancies_url': 'https://api.hh.ru/vacancies?employer_id=9476',\n",
       "  'accredited_it_employer': False,\n",
       "  'trusted': True},\n",
       " 'published_at': '2025-06-02T12:33:29+0300',\n",
       " 'created_at': '2025-06-02T12:33:29+0300',\n",
       " 'initial_created_at': '2025-06-02T12:33:29+0300',\n",
       " 'negotiations_url': None,\n",
       " 'suitable_resumes_url': None,\n",
       " 'apply_alternate_url': 'https://hh.ru/applicant/vacancy_response?vacancyId=121218864',\n",
       " 'has_test': False,\n",
       " 'test': None,\n",
       " 'alternate_url': 'https://hh.ru/vacancy/121218864',\n",
       " 'working_days': [],\n",
       " 'working_time_intervals': [],\n",
       " 'working_time_modes': [],\n",
       " 'accept_temporary': False,\n",
       " 'languages': [],\n",
       " 'approved': True,\n",
       " 'employment_form': {'id': 'FULL', 'name': 'Полная'},\n",
       " 'fly_in_fly_out_duration': [],\n",
       " 'internship': False,\n",
       " 'night_shifts': False,\n",
       " 'work_format': [{'id': 'ON_SITE', 'name': 'На\\xa0месте работодателя'}],\n",
       " 'work_schedule_by_days': [{'id': 'FIVE_ON_TWO_OFF', 'name': '5/2'}],\n",
       " 'working_hours': [{'id': 'HOURS_8', 'name': '8\\xa0часов'}],\n",
       " 'show_logo_in_search': None}"
      ]
     },
     "execution_count": 26,
     "metadata": {},
     "output_type": "execute_result"
    }
   ],
   "source": [
    "for vac_id in vac_ids:\n",
    "    vac_resp = get_vacancies_id(header, URL=BASE_URL+'/'+vac_id, time_dalay=0.5)\n",
    "    break\n",
    "\n",
    "vac_resp\n"
   ]
  },
  {
   "cell_type": "markdown",
   "id": "1e2e4a7a",
   "metadata": {},
   "source": [
    "| Название поля   |      | Название поля в hh.api |                          |\n",
    "| --------------- | ---- | ---------------------- | ------------------------ |\n",
    "| vac_id          |      | id                     |                          |\n",
    "| vac_name            |      | name                   |                          |\n",
    "| city            |      | area_name              |                          |\n",
    "| published_at    |      | published_at           | 2025-05-05T07:35:06+0300 |\n",
    "| archived        | bool | archived               |                          |\n",
    "| url             |      | alternate_url          |                          |\n",
    "| emp_ed          |      | employer_id            |                          |\n",
    "| emp_name        |      | employer_name          |                          |\n",
    "| schedule_name   |      | schedule_name          | Полный день              |\n",
    "| employment_name |      | employment_name        | Полная занятость         |"
   ]
  },
  {
   "cell_type": "code",
   "execution_count": 29,
   "id": "00e4a9e5",
   "metadata": {},
   "outputs": [],
   "source": [
    "vacancies_df = pd.DataFrame(columns=['vac_id','vac_name','city','published_at','archived','alternate_url','employer_id','employer_name','schedule_name','employment_name'])\n",
    "\n",
    "\n",
    "vacancies_df.loc[len(vacancies_df)] = [vac_resp['id'], \\\n",
    "                                                      vac_resp['name'], \\\n",
    "                                                      vac_resp['area']['name'], \\\n",
    "                                                      vac_resp['published_at'], \\\n",
    "                                                      vac_resp['archived'], \\\n",
    "                                                      vac_resp['alternate_url'], \\\n",
    "                                                      vac_resp['employer']['id'], \\\n",
    "                                                      vac_resp['employer']['name'], \\\n",
    "                                                      vac_resp['schedule']['name'], \\\n",
    "                                                      vac_resp['employment']['name']]\n"
   ]
  },
  {
   "cell_type": "code",
   "execution_count": 30,
   "id": "fbb04693",
   "metadata": {},
   "outputs": [
    {
     "data": {
      "text/html": [
       "<div>\n",
       "<style scoped>\n",
       "    .dataframe tbody tr th:only-of-type {\n",
       "        vertical-align: middle;\n",
       "    }\n",
       "\n",
       "    .dataframe tbody tr th {\n",
       "        vertical-align: top;\n",
       "    }\n",
       "\n",
       "    .dataframe thead th {\n",
       "        text-align: right;\n",
       "    }\n",
       "</style>\n",
       "<table border=\"1\" class=\"dataframe\">\n",
       "  <thead>\n",
       "    <tr style=\"text-align: right;\">\n",
       "      <th></th>\n",
       "      <th>vac_id</th>\n",
       "      <th>vac_name</th>\n",
       "      <th>city</th>\n",
       "      <th>published_at</th>\n",
       "      <th>archived</th>\n",
       "      <th>alternate_url</th>\n",
       "      <th>employer_id</th>\n",
       "      <th>employer_name</th>\n",
       "      <th>schedule_name</th>\n",
       "      <th>employment_name</th>\n",
       "    </tr>\n",
       "  </thead>\n",
       "  <tbody>\n",
       "    <tr>\n",
       "      <th>0</th>\n",
       "      <td>121218864</td>\n",
       "      <td>Ведущий аналитик данных</td>\n",
       "      <td>Кемерово</td>\n",
       "      <td>2025-06-02T12:33:29+0300</td>\n",
       "      <td>False</td>\n",
       "      <td>https://hh.ru/vacancy/121218864</td>\n",
       "      <td>9476</td>\n",
       "      <td>Сибирский цемент, Холдинговая компания</td>\n",
       "      <td>Полный день</td>\n",
       "      <td>Полная занятость</td>\n",
       "    </tr>\n",
       "  </tbody>\n",
       "</table>\n",
       "</div>"
      ],
      "text/plain": [
       "      vac_id                 vac_name      city              published_at  \\\n",
       "0  121218864  Ведущий аналитик данных  Кемерово  2025-06-02T12:33:29+0300   \n",
       "\n",
       "   archived                    alternate_url employer_id  \\\n",
       "0     False  https://hh.ru/vacancy/121218864        9476   \n",
       "\n",
       "                            employer_name schedule_name   employment_name  \n",
       "0  Сибирский цемент, Холдинговая компания   Полный день  Полная занятость  "
      ]
     },
     "execution_count": 30,
     "metadata": {},
     "output_type": "execute_result"
    }
   ],
   "source": [
    "vacancies_df"
   ]
  },
  {
   "cell_type": "code",
   "execution_count": null,
   "id": "989728f5",
   "metadata": {},
   "outputs": [],
   "source": [
    "current_vac = res['items'][0]\n",
    "fields = ['id',\n",
    "          'name',\n",
    "          {'area':['id',\n",
    "                   'name',\n",
    "                   'url']},\n",
    "          'published_at',\n",
    "          'archived',\n",
    "          'alternate_url',\n",
    "          {'employer':['id',\n",
    "                       'name',\n",
    "                       'accredited_it_employer',\n",
    "                       'employer_rating',\n",
    "                       'trusted']},\n",
    "          'schedule',\n",
    "          'employment']\n",
    "\n",
    "\n",
    "for item in fields:\n",
    "    if isinstance(item, dict):\n",
    "        for k, v in item.items():\n",
    "            try:\n",
    "                for subitem in v:\n",
    "                    print(f'{('_').join([k, subitem])} {current_vac[k][subitem]}')\n",
    "            except:\n",
    "                print(f'{('_').join([k, subitem])}, NOT FOUND')\n",
    "    try:\n",
    "        print(item,'\\t\\t\\t\\t',current_vac[item])\n",
    "    except:\n",
    "        print(f'not found {item}')\n",
    "        continue"
   ]
  },
  {
   "cell_type": "code",
   "execution_count": null,
   "id": "9fe82ed1",
   "metadata": {},
   "outputs": [],
   "source": []
  },
  {
   "cell_type": "code",
   "execution_count": null,
   "id": "41dc493a",
   "metadata": {},
   "outputs": [],
   "source": []
  },
  {
   "cell_type": "code",
   "execution_count": null,
   "id": "6f8a9f4a",
   "metadata": {},
   "outputs": [],
   "source": []
  }
 ],
 "metadata": {
  "kernelspec": {
   "display_name": "dev_venv",
   "language": "python",
   "name": "python3"
  },
  "language_info": {
   "codemirror_mode": {
    "name": "ipython",
    "version": 3
   },
   "file_extension": ".py",
   "mimetype": "text/x-python",
   "name": "python",
   "nbconvert_exporter": "python",
   "pygments_lexer": "ipython3",
   "version": "3.12.8"
  }
 },
 "nbformat": 4,
 "nbformat_minor": 5
}
