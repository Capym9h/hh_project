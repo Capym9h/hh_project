{
 "cells": [
  {
   "cell_type": "code",
   "execution_count": null,
   "id": "3413d13b",
   "metadata": {},
   "outputs": [],
   "source": [
    "# %pip install tqdm"
   ]
  },
  {
   "cell_type": "code",
   "execution_count": 1,
   "id": "09ee3fa6",
   "metadata": {},
   "outputs": [],
   "source": [
    "import json\n",
    "import requests\n",
    "import numpy as np\n",
    "import pandas as pd\n",
    "from tqdm import tqdm\n",
    "from time import sleep\n",
    "from dotenv import dotenv_values"
   ]
  },
  {
   "cell_type": "code",
   "execution_count": 2,
   "id": "341868f9",
   "metadata": {},
   "outputs": [],
   "source": [
    "def get_vacancies_id(header:dict, param:dict=None, URL:str='https://api.hh.ru/vacancies', per_page:int=100, time_dalay:float=0)->json:\n",
    "    sleep(time_dalay)\n",
    "    return requests.get(url=URL, headers=header, params=param).json()"
   ]
  },
  {
   "cell_type": "code",
   "execution_count": 3,
   "id": "d489b8fe",
   "metadata": {},
   "outputs": [],
   "source": [
    "JOB_TITLE = 'Аналитик данных'\n",
    "\n",
    "USER_AGENT = dotenv_values('.env')['USER_AGENT']\n",
    "BASE_URL='https://api.hh.ru/vacancies'\n",
    "\n",
    "PER_PAGE = 100\n",
    "\n",
    "header = {'User-Agent':USER_AGENT}\n",
    "param = {'text': JOB_TITLE,\n",
    "          'search_field': 'name',\n",
    "          'page': 0,\n",
    "          'per_page': PER_PAGE,\n",
    "          'only_with_salary': True,\n",
    "          'locale': 'RU'}"
   ]
  },
  {
   "cell_type": "code",
   "execution_count": 4,
   "id": "88d4cde1",
   "metadata": {},
   "outputs": [
    {
     "data": {
      "text/plain": [
       "(240, 3, 0)"
      ]
     },
     "execution_count": 4,
     "metadata": {},
     "output_type": "execute_result"
    }
   ],
   "source": [
    "resp = get_vacancies_id(header, param, per_page=PER_PAGE)\n",
    "\n",
    "VAC_CNT = resp['found']\n",
    "PAGES_CNT = resp['pages']\n",
    "current_page = resp['page']\n",
    "VAC_CNT, PAGES_CNT, current_page"
   ]
  },
  {
   "cell_type": "code",
   "execution_count": 5,
   "id": "c256b560",
   "metadata": {},
   "outputs": [
    {
     "name": "stdout",
     "output_type": "stream",
     "text": [
      "It's all OK\n"
     ]
    }
   ],
   "source": [
    "vac_ids = []\n",
    "current_page = 0\n",
    "PAGES_CNT = 999\n",
    "\n",
    "while current_page <= PAGES_CNT-1:\n",
    "    resp = get_vacancies_id(header, param, per_page=PER_PAGE)\n",
    "    current_page = resp['page']\n",
    "    PAGES_CNT = resp['pages']\n",
    "\n",
    "    for item in resp['items']:\n",
    "        vac_ids.append(item['id'])\n",
    "\n",
    "    param['page'] = current_page + 1\n",
    "    resp = get_vacancies_id(header, param, per_page=PER_PAGE)\n",
    "    current_page = resp['page']\n",
    "\n",
    "\n",
    "print(\"It's all OK\" if len(set(vac_ids)) == VAC_CNT else f\"Smt went WRONG\\n{len(set(vac_ids))}___{VAC_CNT}\")"
   ]
  },
  {
   "cell_type": "code",
   "execution_count": 27,
   "id": "9aa0bf36",
   "metadata": {},
   "outputs": [],
   "source": [
    "def get_key_skills(res:str)->str:\n",
    "    '''\n",
    "    Функция для формирования строки требующихся скиллов\n",
    "    Param:\n",
    "        res:str - ответ от api.hh\n",
    "    Return:\n",
    "        str - строка с навыками\n",
    "    '''\n",
    "    result = []\n",
    "    for items in res.get('key_skills',{}):\n",
    "        for k,v in items.items():\n",
    "            result.append(v)\n",
    "    return '; '.join(result)"
   ]
  },
  {
   "cell_type": "code",
   "execution_count": 45,
   "id": "4278b657",
   "metadata": {},
   "outputs": [],
   "source": [
    "def create_dfs()->pd.DataFrame:\n",
    "    vacancies_df    =   pd.DataFrame(columns=[\n",
    "                        'vac_id',\n",
    "                        'vac_name',\n",
    "                        'city',\n",
    "                        'published_at',\n",
    "                        'archived',\n",
    "                        'expirience',\n",
    "                        'alternate_url',\n",
    "                        'employer_id',\n",
    "                        'employer_name',\n",
    "                        'schedule_name',\n",
    "                        'employment_name',\n",
    "                        'prof_role',\n",
    "                        'work_format',\n",
    "                        'work_hour',\n",
    "                        'work_schedule_by_days'\n",
    "                        ])\n",
    "\n",
    "    salary_df       =   pd.DataFrame(columns=[\n",
    "                            'vac_id',\n",
    "                            'salary_from',\n",
    "                            'salary_to',\n",
    "                            'currency',\n",
    "                            'gross',\n",
    "                            'range_mode_name',\n",
    "                            'frequency'\n",
    "                        ])\n",
    "\n",
    "    requerments_df  = pd.DataFrame(columns=[\n",
    "                        'vac_id',\n",
    "                        'response_letter',\n",
    "                        'has_test',\n",
    "                        'descriptions',\n",
    "                        'key_skills'\n",
    "                        ])\n",
    "    \n",
    "    return vacancies_df, salary_df, requerments_df"
   ]
  },
  {
   "cell_type": "code",
   "execution_count": 9,
   "id": "fb6168de",
   "metadata": {},
   "outputs": [
    {
     "name": "stderr",
     "output_type": "stream",
     "text": [
      "GET vacancies annotate:   0%|          | 0/240 [00:00<?, ?it/s]"
     ]
    },
    {
     "name": "stderr",
     "output_type": "stream",
     "text": [
      "GET vacancies annotate:   1%|▏         | 3/240 [00:02<03:26,  1.15it/s]\n"
     ]
    },
    {
     "ename": "IndexError",
     "evalue": "list index out of range",
     "output_type": "error",
     "traceback": [
      "\u001b[31m---------------------------------------------------------------------------\u001b[39m",
      "\u001b[31mIndexError\u001b[39m                                Traceback (most recent call last)",
      "\u001b[36mCell\u001b[39m\u001b[36m \u001b[39m\u001b[32mIn[9]\u001b[39m\u001b[32m, line 19\u001b[39m\n\u001b[32m      4\u001b[39m \u001b[38;5;28;01mfor\u001b[39;00m vac_id \u001b[38;5;129;01min\u001b[39;00m tqdm(vac_ids,desc=\u001b[33m'\u001b[39m\u001b[33mGET vacancies annotate\u001b[39m\u001b[33m'\u001b[39m):\n\u001b[32m      5\u001b[39m     vac_resp = get_vacancies_id(header, URL=BASE_URL+\u001b[33m'\u001b[39m\u001b[33m/\u001b[39m\u001b[33m'\u001b[39m+vac_id, time_dalay=\u001b[32m0.5\u001b[39m)\n\u001b[32m      7\u001b[39m     vacancies_df.loc[\u001b[38;5;28mlen\u001b[39m(vacancies_df)] = [vac_resp[\u001b[33m'\u001b[39m\u001b[33mid\u001b[39m\u001b[33m'\u001b[39m], \\\n\u001b[32m      8\u001b[39m                                            vac_resp[\u001b[33m'\u001b[39m\u001b[33mname\u001b[39m\u001b[33m'\u001b[39m], \\\n\u001b[32m      9\u001b[39m                                            vac_resp[\u001b[33m'\u001b[39m\u001b[33marea\u001b[39m\u001b[33m'\u001b[39m][\u001b[33m'\u001b[39m\u001b[33mname\u001b[39m\u001b[33m'\u001b[39m], \\\n\u001b[32m     10\u001b[39m                                            vac_resp[\u001b[33m'\u001b[39m\u001b[33mpublished_at\u001b[39m\u001b[33m'\u001b[39m], \\\n\u001b[32m     11\u001b[39m                                            vac_resp[\u001b[33m'\u001b[39m\u001b[33marchived\u001b[39m\u001b[33m'\u001b[39m], \\\n\u001b[32m     12\u001b[39m                                            vac_resp[\u001b[33m'\u001b[39m\u001b[33mexperience\u001b[39m\u001b[33m'\u001b[39m][\u001b[33m'\u001b[39m\u001b[33mname\u001b[39m\u001b[33m'\u001b[39m], \\\n\u001b[32m     13\u001b[39m                                            vac_resp[\u001b[33m'\u001b[39m\u001b[33malternate_url\u001b[39m\u001b[33m'\u001b[39m], \\\n\u001b[32m     14\u001b[39m                                            vac_resp[\u001b[33m'\u001b[39m\u001b[33memployer\u001b[39m\u001b[33m'\u001b[39m][\u001b[33m'\u001b[39m\u001b[33mid\u001b[39m\u001b[33m'\u001b[39m], \\\n\u001b[32m     15\u001b[39m                                            vac_resp[\u001b[33m'\u001b[39m\u001b[33memployer\u001b[39m\u001b[33m'\u001b[39m][\u001b[33m'\u001b[39m\u001b[33mname\u001b[39m\u001b[33m'\u001b[39m], \\\n\u001b[32m     16\u001b[39m                                            vac_resp[\u001b[33m'\u001b[39m\u001b[33mschedule\u001b[39m\u001b[33m'\u001b[39m][\u001b[33m'\u001b[39m\u001b[33mname\u001b[39m\u001b[33m'\u001b[39m], \\\n\u001b[32m     17\u001b[39m                                            vac_resp[\u001b[33m'\u001b[39m\u001b[33memployment\u001b[39m\u001b[33m'\u001b[39m][\u001b[33m'\u001b[39m\u001b[33mname\u001b[39m\u001b[33m'\u001b[39m], \\\n\u001b[32m     18\u001b[39m                                            vac_resp[\u001b[33m'\u001b[39m\u001b[33mprofessional_roles\u001b[39m\u001b[33m'\u001b[39m][\u001b[32m0\u001b[39m][\u001b[33m'\u001b[39m\u001b[33mname\u001b[39m\u001b[33m'\u001b[39m], \\\n\u001b[32m---> \u001b[39m\u001b[32m19\u001b[39m                                            \u001b[43mvac_resp\u001b[49m\u001b[43m[\u001b[49m\u001b[33;43m'\u001b[39;49m\u001b[33;43mwork_format\u001b[39;49m\u001b[33;43m'\u001b[39;49m\u001b[43m]\u001b[49m\u001b[43m[\u001b[49m\u001b[32;43m0\u001b[39;49m\u001b[43m]\u001b[49m[\u001b[33m'\u001b[39m\u001b[33mname\u001b[39m\u001b[33m'\u001b[39m], \\\n\u001b[32m     20\u001b[39m                                            vac_resp[\u001b[33m'\u001b[39m\u001b[33mworking_hours\u001b[39m\u001b[33m'\u001b[39m][\u001b[32m0\u001b[39m][\u001b[33m'\u001b[39m\u001b[33mname\u001b[39m\u001b[33m'\u001b[39m], \\\n\u001b[32m     21\u001b[39m                                            vac_resp[\u001b[33m'\u001b[39m\u001b[33mwork_schedule_by_days\u001b[39m\u001b[33m'\u001b[39m][\u001b[32m0\u001b[39m][\u001b[33m'\u001b[39m\u001b[33mname\u001b[39m\u001b[33m'\u001b[39m]]\n\u001b[32m     23\u001b[39m     salary_df.loc[\u001b[38;5;28mlen\u001b[39m(salary_df)] = [vac_resp[\u001b[33m'\u001b[39m\u001b[33mid\u001b[39m\u001b[33m'\u001b[39m], \\\n\u001b[32m     24\u001b[39m                                      vac_resp[\u001b[33m'\u001b[39m\u001b[33msalary\u001b[39m\u001b[33m'\u001b[39m][\u001b[33m'\u001b[39m\u001b[33mfrom\u001b[39m\u001b[33m'\u001b[39m], \\\n\u001b[32m     25\u001b[39m                                      vac_resp[\u001b[33m'\u001b[39m\u001b[33msalary\u001b[39m\u001b[33m'\u001b[39m][\u001b[33m'\u001b[39m\u001b[33mto\u001b[39m\u001b[33m'\u001b[39m], \\\n\u001b[32m   (...)\u001b[39m\u001b[32m     29\u001b[39m                                      vac_resp[\u001b[33m'\u001b[39m\u001b[33msalary_range\u001b[39m\u001b[33m'\u001b[39m][\u001b[33m'\u001b[39m\u001b[33mfrequency\u001b[39m\u001b[33m'\u001b[39m][\u001b[33m'\u001b[39m\u001b[33mname\u001b[39m\u001b[33m'\u001b[39m]\n\u001b[32m     30\u001b[39m                                     ]\n\u001b[32m     32\u001b[39m     requerments_df.loc[\u001b[38;5;28mlen\u001b[39m(requerments_df)] = [vac_resp[\u001b[33m'\u001b[39m\u001b[33mid\u001b[39m\u001b[33m'\u001b[39m], \\\n\u001b[32m     33\u001b[39m                                            vac_resp[\u001b[33m'\u001b[39m\u001b[33mresponse_letter_required\u001b[39m\u001b[33m'\u001b[39m], \\\n\u001b[32m     34\u001b[39m                                            vac_resp[\u001b[33m'\u001b[39m\u001b[33mhas_test\u001b[39m\u001b[33m'\u001b[39m],\n\u001b[32m     35\u001b[39m                                            vac_resp[\u001b[33m'\u001b[39m\u001b[33mdescription\u001b[39m\u001b[33m'\u001b[39m],\\\n\u001b[32m     36\u001b[39m                                            get_key_skills(vac_resp)\n\u001b[32m     37\u001b[39m                                         ]\n",
      "\u001b[31mIndexError\u001b[39m: list index out of range"
     ]
    }
   ],
   "source": [
    "#создаем датафреймы\n",
    "vacancies_df, salary_df, requerments_df = create_dfs()\n",
    "\n",
    "for vac_id in tqdm(vac_ids,desc='GET vacancies annotate'):\n",
    "    vac_resp = get_vacancies_id(header, URL=BASE_URL+'/'+vac_id, time_dalay=0.5)\n",
    "    \n",
    "    vacancies_df.loc[len(vacancies_df)] = [vac_resp['id'], \\\n",
    "                                           vac_resp['name'], \\\n",
    "                                           vac_resp['area']['name'], \\\n",
    "                                           vac_resp['published_at'], \\\n",
    "                                           vac_resp['archived'], \\\n",
    "                                           vac_resp['experience']['name'], \\\n",
    "                                           vac_resp['alternate_url'], \\\n",
    "                                           vac_resp['employer']['id'], \\\n",
    "                                           vac_resp['employer']['name'], \\\n",
    "                                           vac_resp['schedule']['name'], \\\n",
    "                                           vac_resp['employment']['name'], \\\n",
    "                                           vac_resp['professional_roles'][0]['name'], \\\n",
    "                                           vac_resp['work_format'][0]['name'], \\\n",
    "                                           vac_resp['working_hours'][0]['name'], \\\n",
    "                                           vac_resp['work_schedule_by_days'][0]['name']]\n",
    "\n",
    "    salary_df.loc[len(salary_df)] = [vac_resp['id'], \\\n",
    "                                     vac_resp['salary']['from'], \\\n",
    "                                     vac_resp['salary']['to'], \\\n",
    "                                     vac_resp['salary']['currency'], \\\n",
    "                                     vac_resp['salary']['gross'], \\\n",
    "                                     vac_resp['salary_range']['mode']['name'], \\\n",
    "                                     vac_resp['salary_range']['frequency']['name']\n",
    "                                    ]\n",
    "\n",
    "    requerments_df.loc[len(requerments_df)] = [vac_resp['id'], \\\n",
    "                                           vac_resp['response_letter_required'], \\\n",
    "                                           vac_resp['has_test'],\n",
    "                                           vac_resp['description'],\\\n",
    "                                           get_key_skills(vac_resp)\n",
    "                                        ]"
   ]
  },
  {
   "cell_type": "code",
   "execution_count": 46,
   "id": "4746ab56",
   "metadata": {},
   "outputs": [
    {
     "name": "stderr",
     "output_type": "stream",
     "text": [
      "GET vacancies annotate:   1%|▏         | 3/240 [00:01<02:23,  1.65it/s]\n"
     ]
    },
    {
     "ename": "IndexError",
     "evalue": "list index out of range",
     "output_type": "error",
     "traceback": [
      "\u001b[31m---------------------------------------------------------------------------\u001b[39m",
      "\u001b[31mIndexError\u001b[39m                                Traceback (most recent call last)",
      "\u001b[36mCell\u001b[39m\u001b[36m \u001b[39m\u001b[32mIn[46]\u001b[39m\u001b[32m, line 22\u001b[39m\n\u001b[32m      6\u001b[39m vac_resp = get_vacancies_id(header, URL=BASE_URL+\u001b[33m'\u001b[39m\u001b[33m/\u001b[39m\u001b[33m'\u001b[39m+vac_id, time_dalay=\u001b[32m0.3\u001b[39m)\n\u001b[32m      8\u001b[39m \u001b[38;5;66;03m# Обработка данных для vacancies_df с проверками\u001b[39;00m\n\u001b[32m      9\u001b[39m vacancies_df.loc[\u001b[38;5;28mlen\u001b[39m(vacancies_df)] = [\n\u001b[32m     10\u001b[39m     vac_resp.get(\u001b[33m'\u001b[39m\u001b[33mid\u001b[39m\u001b[33m'\u001b[39m),\n\u001b[32m     11\u001b[39m     vac_resp.get(\u001b[33m'\u001b[39m\u001b[33mname\u001b[39m\u001b[33m'\u001b[39m, \u001b[33m'\u001b[39m\u001b[33m'\u001b[39m),\n\u001b[32m     12\u001b[39m     vac_resp.get(\u001b[33m'\u001b[39m\u001b[33marea\u001b[39m\u001b[33m'\u001b[39m, {}).get(\u001b[33m'\u001b[39m\u001b[33mname\u001b[39m\u001b[33m'\u001b[39m, \u001b[33m'\u001b[39m\u001b[33m'\u001b[39m),\n\u001b[32m     13\u001b[39m     vac_resp.get(\u001b[33m'\u001b[39m\u001b[33mpublished_at\u001b[39m\u001b[33m'\u001b[39m, \u001b[33m'\u001b[39m\u001b[33m'\u001b[39m),\n\u001b[32m     14\u001b[39m     vac_resp.get(\u001b[33m'\u001b[39m\u001b[33marchived\u001b[39m\u001b[33m'\u001b[39m, \u001b[38;5;28;01mFalse\u001b[39;00m),\n\u001b[32m     15\u001b[39m     vac_resp.get(\u001b[33m'\u001b[39m\u001b[33mexperience\u001b[39m\u001b[33m'\u001b[39m, {}).get(\u001b[33m'\u001b[39m\u001b[33mname\u001b[39m\u001b[33m'\u001b[39m, \u001b[33m'\u001b[39m\u001b[33m'\u001b[39m),\n\u001b[32m     16\u001b[39m     vac_resp.get(\u001b[33m'\u001b[39m\u001b[33malternate_url\u001b[39m\u001b[33m'\u001b[39m, \u001b[33m'\u001b[39m\u001b[33m'\u001b[39m),\n\u001b[32m     17\u001b[39m     vac_resp.get(\u001b[33m'\u001b[39m\u001b[33memployer\u001b[39m\u001b[33m'\u001b[39m, {}).get(\u001b[33m'\u001b[39m\u001b[33mid\u001b[39m\u001b[33m'\u001b[39m, \u001b[33m'\u001b[39m\u001b[33m'\u001b[39m),\n\u001b[32m     18\u001b[39m     vac_resp.get(\u001b[33m'\u001b[39m\u001b[33memployer\u001b[39m\u001b[33m'\u001b[39m, {}).get(\u001b[33m'\u001b[39m\u001b[33mname\u001b[39m\u001b[33m'\u001b[39m, \u001b[33m'\u001b[39m\u001b[33m'\u001b[39m),\n\u001b[32m     19\u001b[39m     vac_resp.get(\u001b[33m'\u001b[39m\u001b[33mschedule\u001b[39m\u001b[33m'\u001b[39m, {}).get(\u001b[33m'\u001b[39m\u001b[33mname\u001b[39m\u001b[33m'\u001b[39m, \u001b[33m'\u001b[39m\u001b[33m'\u001b[39m),\n\u001b[32m     20\u001b[39m     vac_resp.get(\u001b[33m'\u001b[39m\u001b[33memployment\u001b[39m\u001b[33m'\u001b[39m, {}).get(\u001b[33m'\u001b[39m\u001b[33mname\u001b[39m\u001b[33m'\u001b[39m, \u001b[33m'\u001b[39m\u001b[33m'\u001b[39m),\n\u001b[32m     21\u001b[39m     vac_resp.get(\u001b[33m'\u001b[39m\u001b[33mprofessional_roles\u001b[39m\u001b[33m'\u001b[39m, [{}])[\u001b[32m0\u001b[39m].get(\u001b[33m'\u001b[39m\u001b[33mname\u001b[39m\u001b[33m'\u001b[39m, \u001b[33m'\u001b[39m\u001b[33m'\u001b[39m),\n\u001b[32m---> \u001b[39m\u001b[32m22\u001b[39m     \u001b[43mvac_resp\u001b[49m\u001b[43m.\u001b[49m\u001b[43mget\u001b[49m\u001b[43m(\u001b[49m\u001b[33;43m'\u001b[39;49m\u001b[33;43mwork_format\u001b[39;49m\u001b[33;43m'\u001b[39;49m\u001b[43m,\u001b[49m\u001b[43m \u001b[49m\u001b[43m[\u001b[49m\u001b[43m{\u001b[49m\u001b[43m}\u001b[49m\u001b[43m]\u001b[49m\u001b[43m)\u001b[49m\u001b[43m[\u001b[49m\u001b[32;43m0\u001b[39;49m\u001b[43m]\u001b[49m.get(\u001b[33m'\u001b[39m\u001b[33mname\u001b[39m\u001b[33m'\u001b[39m, \u001b[33m'\u001b[39m\u001b[33m'\u001b[39m),\n\u001b[32m     23\u001b[39m     vac_resp.get(\u001b[33m'\u001b[39m\u001b[33mworking_hours\u001b[39m\u001b[33m'\u001b[39m, [{}])[\u001b[32m0\u001b[39m].get(\u001b[33m'\u001b[39m\u001b[33mname\u001b[39m\u001b[33m'\u001b[39m, \u001b[33m'\u001b[39m\u001b[33m'\u001b[39m),\n\u001b[32m     24\u001b[39m     vac_resp.get(\u001b[33m'\u001b[39m\u001b[33mwork_schedule_by_days\u001b[39m\u001b[33m'\u001b[39m, [{}])[\u001b[32m0\u001b[39m].get(\u001b[33m'\u001b[39m\u001b[33mname\u001b[39m\u001b[33m'\u001b[39m, \u001b[33m'\u001b[39m\u001b[33m'\u001b[39m)\n\u001b[32m     25\u001b[39m ]\n\u001b[32m     27\u001b[39m salary_df.loc[\u001b[38;5;28mlen\u001b[39m(salary_df)] = [\n\u001b[32m     28\u001b[39m     vac_resp.get(\u001b[33m'\u001b[39m\u001b[33mid\u001b[39m\u001b[33m'\u001b[39m),\n\u001b[32m     29\u001b[39m     vac_resp.get(\u001b[33m'\u001b[39m\u001b[33msalary\u001b[39m\u001b[33m'\u001b[39m,{}).get(\u001b[33m'\u001b[39m\u001b[33mfrom\u001b[39m\u001b[33m'\u001b[39m,\u001b[33m'\u001b[39m\u001b[33m'\u001b[39m),\n\u001b[32m   (...)\u001b[39m\u001b[32m     34\u001b[39m     vac_resp.get(\u001b[33m'\u001b[39m\u001b[33msalary_range\u001b[39m\u001b[33m'\u001b[39m).get(\u001b[33m'\u001b[39m\u001b[33mfrequency\u001b[39m\u001b[33m'\u001b[39m,{}).get(\u001b[33m'\u001b[39m\u001b[33mname\u001b[39m\u001b[33m'\u001b[39m,\u001b[33m'\u001b[39m\u001b[33m'\u001b[39m)\n\u001b[32m     35\u001b[39m ]\n\u001b[32m     37\u001b[39m \u001b[38;5;66;03m# Обработка данных для requerments_df с проверками\u001b[39;00m\n",
      "\u001b[31mIndexError\u001b[39m: list index out of range"
     ]
    }
   ],
   "source": [
    "# Создаем датафреймы\n",
    "vacancies_df, salary_df, requerments_df = create_dfs()\n",
    "\n",
    "for vac_id in tqdm(vac_ids, desc='GET vacancies annotate'):\n",
    "    # try:\n",
    "    vac_resp = get_vacancies_id(header, URL=BASE_URL+'/'+vac_id, time_dalay=0.3)\n",
    "    \n",
    "    # Обработка данных для vacancies_df с проверками\n",
    "    vacancies_df.loc[len(vacancies_df)] = [\n",
    "        vac_resp.get('id'),\n",
    "        vac_resp.get('name', ''),\n",
    "        vac_resp.get('area', {}).get('name', ''),\n",
    "        vac_resp.get('published_at', ''),\n",
    "        vac_resp.get('archived', False),\n",
    "        vac_resp.get('experience', {}).get('name', ''),\n",
    "        vac_resp.get('alternate_url', ''),\n",
    "        vac_resp.get('employer', {}).get('id', ''),\n",
    "        vac_resp.get('employer', {}).get('name', ''),\n",
    "        vac_resp.get('schedule', {}).get('name', ''),\n",
    "        vac_resp.get('employment', {}).get('name', ''),\n",
    "        vac_resp.get('professional_roles', [{}])[0].get('name', ''),\n",
    "        vac_resp.get('work_format', [{}])[0].get('name', ''),\n",
    "        vac_resp.get('working_hours', [{}])[0].get('name', ''),\n",
    "        vac_resp.get('work_schedule_by_days', [{}])[0].get('name', '')\n",
    "    ]\n",
    "\n",
    "    salary_df.loc[len(salary_df)] = [\n",
    "        vac_resp.get('id'),\n",
    "        vac_resp.get('salary',{}).get('from',''),\n",
    "        vac_resp.get('salary',{}).get('to',''),\n",
    "        vac_resp.get('salary',{}).get('currency'),\n",
    "        vac_resp.get('salary',{}).get('gross'),\n",
    "        vac_resp.get('salary_range').get('mode',{}).get('name',''),\n",
    "        vac_resp.get('salary_range').get('frequency',{}).get('name','')\n",
    "    ]\n",
    "\n",
    "    # Обработка данных для requerments_df с проверками\n",
    "    requerments_df.loc[len(requerments_df)] = [\n",
    "        vac_resp.get('id'),\n",
    "        vac_resp.get('response_letter_required', False),\n",
    "        vac_resp.get('has_test', False),\n",
    "        vac_resp.get('description', ''),\n",
    "        get_key_skills(vac_resp)\n",
    "    ]\n",
    "    # except Exception as e:\n",
    "    #     print(f\"Ошибка обработки вакансии {vac_id}: {str(e)}\")\n",
    "    #     continue"
   ]
  },
  {
   "cell_type": "code",
   "execution_count": null,
   "id": "34b310f7",
   "metadata": {},
   "outputs": [],
   "source": [
    "# r = get_vacancies_id(header, param, BASE_URL+'/121329518')"
   ]
  },
  {
   "cell_type": "code",
   "execution_count": 47,
   "id": "b64342db",
   "metadata": {},
   "outputs": [
    {
     "data": {
      "text/plain": [
       "[]"
      ]
     },
     "execution_count": 47,
     "metadata": {},
     "output_type": "execute_result"
    }
   ],
   "source": [
    "vac_resp.get('work_format')"
   ]
  },
  {
   "cell_type": "code",
   "execution_count": 48,
   "id": "4bd1e015",
   "metadata": {},
   "outputs": [
    {
     "data": {
      "text/plain": [
       "{'id': '121133654',\n",
       " 'premium': False,\n",
       " 'billing_type': {'id': 'standard_plus', 'name': 'Стандарт плюс'},\n",
       " 'relations': [],\n",
       " 'name': 'Аналитик данных',\n",
       " 'insider_interview': None,\n",
       " 'response_letter_required': False,\n",
       " 'area': {'id': '2759',\n",
       "  'name': 'Ташкент',\n",
       "  'url': 'https://api.hh.ru/areas/2759'},\n",
       " 'salary': {'from': 900, 'to': None, 'currency': 'USD', 'gross': True},\n",
       " 'salary_range': {'from': 900,\n",
       "  'to': None,\n",
       "  'currency': 'USD',\n",
       "  'gross': True,\n",
       "  'mode': {'id': 'MONTH', 'name': 'За\\xa0месяц'},\n",
       "  'frequency': None},\n",
       " 'type': {'id': 'open', 'name': 'Открытая'},\n",
       " 'address': {'city': 'Ташкент',\n",
       "  'street': 'улица Бабура',\n",
       "  'building': '34',\n",
       "  'lat': 41.288809,\n",
       "  'lng': 69.251431,\n",
       "  'description': None,\n",
       "  'raw': 'Ташкент, улица Бабура, 34',\n",
       "  'metro': None,\n",
       "  'metro_stations': []},\n",
       " 'allow_messages': True,\n",
       " 'experience': {'id': 'between1And3', 'name': 'От 1 года до 3 лет'},\n",
       " 'schedule': {'id': 'fullDay', 'name': 'Полный день'},\n",
       " 'employment': {'id': 'full', 'name': 'Полная занятость'},\n",
       " 'department': None,\n",
       " 'show_contacts': True,\n",
       " 'contacts': None,\n",
       " 'description': '<p> </p> <p><strong><em>Parsec</em> — <em>Мы динамично развивающаяся IT-компания, специализирующаяся на разработке программного обеспечения, создании инфраструктуры данных, аналитике и визуализации данных. Мы помогаем компаниям реализовывать смелые IT-идеи, предоставляя инновационные и масштабируемые решения, адаптированные под индивидуальные потребности клиентов.</em></strong></p> <p> </p> <p><strong>О проекте</strong></p> <p><em>Мы запускаем новый IT‑продукт в сегменте B2C, который станет уникальным предложением на локальном рынке. В связи с запуском новых процессов и расширением команды мы ищем операционного менеджера, способного эффективно создавать, организовывать и оптимизировать рабочие процессы.</em></p> <p><strong>Чем предстоит заниматься:</strong></p> <ul> <li><em>Регламентировать текущие процессы и оптимизировать их для повышения эффективности работы отдела.</em></li> <li><em>Создавать и управлять учётными записями, следить за их активностью и обеспечивать их правильное функционирование.</em></li> <li><em>Мониторить работу и состояние учётных записей, своевременно реагировать на любые изменения и поддерживать актуальность данных.</em></li> <li><em>Вести учёт и контроль бюджета по проводимым операциям, формировать детализированные отчёты.</em></li> <li><em>Подготавливать необходимые документы, материалы и технические средства для эффективной работы отдела.</em></li> <li><em>Оптимизировать поставленные процессы. </em></li> <li><em>Создавать процессы и команды по стратегии отдела и выводам, полученным при анализе деятельности уже поставленных основных процессах.</em></li> </ul> <p><strong>Требования к кандидату:</strong></p> <ul> <li><em>Навыки работы с таблицами и отчётами (Excel, Google Sheets).</em></li> <li><em>Аналитические способности и умение выявлять проблемы с последующей разработкой решений.</em></li> <li><em>Внимательность к деталям, самоорганизация и ответственность.</em></li> <li><em>Знание русского языка, знание узбекского языка.</em></li> <li><em>Инициативность и умение самостоятельно принимать решения в рамках поставленных задач.</em></li> <li><em>Готовность быстро обучаться и адаптироваться к новым задачам и условиям.</em></li> </ul> <p><strong>Что мы предлагаем:</strong></p> <ul> <li><em>Полное обучение всем необходимым процессам и постоянную поддержку со стороны руководства.</em></li> <li><em>Интересные и разнообразные задачи.</em></li> <li><em>Возможность профессионального и карьерного роста до тимлида отдела в активно развивающейся сфере.</em></li> <li><em>Приобретение новых компетенций и ценных профессиональных знаний.</em></li> <li><em>Работу в сплочённой и профессиональной команде.</em></li> <li><em>Возможность внести значимый вклад в развитие перспективного проекта.</em></li> <li><em>График работы 5/2 (09:00-18:00 или 10:00-19:00), Офис в центре Ташкента.</em></li> </ul>',\n",
       " 'branded_description': None,\n",
       " 'vacancy_constructor_template': None,\n",
       " 'key_skills': [],\n",
       " 'accept_handicapped': False,\n",
       " 'accept_kids': False,\n",
       " 'archived': False,\n",
       " 'response_url': None,\n",
       " 'specializations': [],\n",
       " 'professional_roles': [{'id': '156', 'name': 'BI-аналитик, аналитик данных'}],\n",
       " 'code': None,\n",
       " 'hidden': False,\n",
       " 'quick_responses_allowed': False,\n",
       " 'driver_license_types': [],\n",
       " 'accept_incomplete_resumes': False,\n",
       " 'employer': {'id': '11915921',\n",
       "  'name': 'PARSEC',\n",
       "  'url': 'https://api.hh.ru/employers/11915921',\n",
       "  'alternate_url': 'https://hh.ru/employer/11915921',\n",
       "  'logo_urls': {'original': 'https://img.hhcdn.ru/employer-logo-original/1412026.png',\n",
       "   '90': 'https://img.hhcdn.ru/employer-logo/7267764.png',\n",
       "   '240': 'https://img.hhcdn.ru/employer-logo/7267765.png'},\n",
       "  'vacancies_url': 'https://api.hh.ru/vacancies?employer_id=11915921',\n",
       "  'accredited_it_employer': False,\n",
       "  'trusted': True},\n",
       " 'published_at': '2025-06-04T15:24:24+0300',\n",
       " 'created_at': '2025-06-04T15:24:24+0300',\n",
       " 'initial_created_at': '2025-05-29T15:24:24+0300',\n",
       " 'negotiations_url': None,\n",
       " 'suitable_resumes_url': None,\n",
       " 'apply_alternate_url': 'https://hh.ru/applicant/vacancy_response?vacancyId=121133654',\n",
       " 'has_test': False,\n",
       " 'test': None,\n",
       " 'alternate_url': 'https://hh.ru/vacancy/121133654',\n",
       " 'working_days': [],\n",
       " 'working_time_intervals': [],\n",
       " 'working_time_modes': [],\n",
       " 'accept_temporary': False,\n",
       " 'languages': [],\n",
       " 'approved': True,\n",
       " 'employment_form': {'id': 'FULL', 'name': 'Полная'},\n",
       " 'fly_in_fly_out_duration': [],\n",
       " 'internship': False,\n",
       " 'night_shifts': False,\n",
       " 'work_format': [],\n",
       " 'work_schedule_by_days': [{'id': 'FIVE_ON_TWO_OFF', 'name': '5/2'}],\n",
       " 'working_hours': [{'id': 'HOURS_8', 'name': '8\\xa0часов'}],\n",
       " 'show_logo_in_search': None}"
      ]
     },
     "execution_count": 48,
     "metadata": {},
     "output_type": "execute_result"
    }
   ],
   "source": [
    "vac_resp"
   ]
  }
 ],
 "metadata": {
  "kernelspec": {
   "display_name": "hhvenv",
   "language": "python",
   "name": "python3"
  },
  "language_info": {
   "codemirror_mode": {
    "name": "ipython",
    "version": 3
   },
   "file_extension": ".py",
   "mimetype": "text/x-python",
   "name": "python",
   "nbconvert_exporter": "python",
   "pygments_lexer": "ipython3",
   "version": "3.12.3"
  }
 },
 "nbformat": 4,
 "nbformat_minor": 5
}
