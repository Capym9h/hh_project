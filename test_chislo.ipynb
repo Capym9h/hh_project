{
 "cells": [
  {
   "cell_type": "code",
   "execution_count": null,
   "id": "3413d13b",
   "metadata": {},
   "outputs": [],
   "source": [
    "# %pip install tqdm"
   ]
  },
  {
   "cell_type": "code",
   "execution_count": 1,
   "id": "09ee3fa6",
   "metadata": {},
   "outputs": [],
   "source": [
    "import json\n",
    "import requests\n",
    "import numpy as np\n",
    "import pandas as pd \n",
    "from tqdm import tqdm\n",
    "from time import sleep\n",
    "from dotenv import dotenv_values"
   ]
  },
  {
   "cell_type": "code",
   "execution_count": 2,
   "id": "341868f9",
   "metadata": {},
   "outputs": [],
   "source": [
    "def get_vacancies_id(header:dict, param:dict=None, URL:str='https://api.hh.ru/vacancies', per_page:int=100, time_delay:float=0)->json:\n",
    "    sleep(time_delay)\n",
    "    return requests.get(url=URL, headers=header, params=param).json()"
   ]
  },
  {
   "cell_type": "code",
   "execution_count": 3,
   "id": "d489b8fe",
   "metadata": {},
   "outputs": [],
   "source": [
    "JOB_TITLE = 'Аналитик данных'\n",
    "\n",
    "USER_AGENT = dotenv_values('.env')['USER_AGENT']\n",
    "BASE_URL='https://api.hh.ru/vacancies'\n",
    "\n",
    "PER_PAGE = 100\n",
    "\n",
    "header = {'User-Agent':USER_AGENT}\n",
    "param = {'text': JOB_TITLE,\n",
    "          'search_field': 'name',\n",
    "          'page': 0,\n",
    "          'per_page': PER_PAGE,\n",
    "          'only_with_salary': True,\n",
    "          'locale': 'RU'}"
   ]
  },
  {
   "cell_type": "code",
   "execution_count": 4,
   "id": "88d4cde1",
   "metadata": {},
   "outputs": [
    {
     "data": {
      "text/plain": [
       "(200, 2, 0)"
      ]
     },
     "execution_count": 4,
     "metadata": {},
     "output_type": "execute_result"
    }
   ],
   "source": [
    "resp = get_vacancies_id(header, param, per_page=PER_PAGE)\n",
    "\n",
    "VAC_CNT = resp['found']\n",
    "PAGES_CNT = resp['pages']\n",
    "current_page = resp['page']\n",
    "VAC_CNT, PAGES_CNT, current_page"
   ]
  },
  {
   "cell_type": "code",
   "execution_count": 5,
   "id": "c256b560",
   "metadata": {},
   "outputs": [
    {
     "name": "stdout",
     "output_type": "stream",
     "text": [
      "It's all OK\n"
     ]
    }
   ],
   "source": [
    "vac_ids = []\n",
    "current_page = 0\n",
    "PAGES_CNT = 999\n",
    "\n",
    "while current_page <= PAGES_CNT-1:\n",
    "    resp = get_vacancies_id(header, param, per_page=PER_PAGE)\n",
    "    current_page = resp['page']\n",
    "    PAGES_CNT = resp['pages']\n",
    "\n",
    "    for item in resp['items']:\n",
    "        vac_ids.append(item['id'])\n",
    "\n",
    "    param['page'] = current_page + 1\n",
    "    resp = get_vacancies_id(header, param, per_page=PER_PAGE)\n",
    "    current_page = resp['page']\n",
    "\n",
    "\n",
    "print(\"It's all OK\" if len(set(vac_ids)) == VAC_CNT else f\"Smt went WRONG\\n{len(set(vac_ids))}___{VAC_CNT}\")"
   ]
  },
  {
   "cell_type": "code",
   "execution_count": 6,
   "id": "2683beb5",
   "metadata": {},
   "outputs": [],
   "source": [
    "def get_skills_str(key_skills:list)->str:\n",
    "    '''Функция преобразования списка словарей требуемых скилов в строку'''\n",
    "    result = []\n",
    "    for skill in key_skills:\n",
    "        result.append(skill.get('name'))\n",
    "    return '; '.join(result)"
   ]
  },
  {
   "cell_type": "code",
   "execution_count": 7,
   "id": "fbacaf50",
   "metadata": {},
   "outputs": [
    {
     "name": "stderr",
     "output_type": "stream",
     "text": [
      "Getting annotation...:: 100%|██████████| 200/200 [01:58<00:00,  1.69it/s]"
     ]
    },
    {
     "name": "stdout",
     "output_type": "stream",
     "text": [
      "Done\n"
     ]
    },
    {
     "name": "stderr",
     "output_type": "stream",
     "text": [
      "\n"
     ]
    }
   ],
   "source": [
    "vac_df = pd.DataFrame(columns=[\n",
    "    'vac_id',\n",
    "    'vac_name',\n",
    "    'city',\n",
    "    'published_at',\n",
    "    'archived',\n",
    "    'experience',\n",
    "    'url',\n",
    "    'employer_id',\n",
    "    'schedule_name',\n",
    "    'employment_name',\n",
    "    'prof_role'\n",
    "])\n",
    "\n",
    "emp_df = pd.DataFrame(columns=[\n",
    "    'vac_id',\n",
    "    'emp_id',\n",
    "    'emp_name',\n",
    "    'addres',\n",
    "    'emp_url',\n",
    "    'is_accredited',\n",
    "    'is_trusted'\n",
    "])\n",
    "\n",
    "sal_df = pd.DataFrame(columns=[\n",
    "    'vac_id',\n",
    "    'salary_from',\n",
    "    'salary_to',\n",
    "    'currency',\n",
    "    'gross',\n",
    "    'mode_name',\n",
    "    'frequency'\n",
    "])\n",
    "\n",
    "req_df = pd.DataFrame(columns=[\n",
    "    'vac_id',\n",
    "    'insider_interview',\n",
    "    'response_letter_required',\n",
    "    'experience',\n",
    "    'key_skills',\n",
    "    'has_test'\n",
    "])\n",
    "\n",
    "for vac_id in tqdm(vac_ids, desc= 'Getting annotation...:'):\n",
    "    #формирование датафрейма по информации вакансий\n",
    "    try:\n",
    "        vac_annote = get_vacancies_id(header=header, URL=BASE_URL+f'/{vac_id}', time_delay=0.4)\n",
    "        vac_df.loc[len(vac_df)] = [\n",
    "            vac_annote.get('id'), \n",
    "            vac_annote.get('name'),\n",
    "            vac_annote.get('area').get('id'),\n",
    "            vac_annote.get('published_at'),\n",
    "            vac_annote.get('archived'),\n",
    "            vac_annote.get('experience').get('name'),\n",
    "            vac_annote.get('alternate_url'),\n",
    "            vac_annote.get('employer').get('id'),\n",
    "            vac_annote.get('schedule').get('name'),\n",
    "            vac_annote.get('employment').get('name'),\n",
    "            vac_annote.get('professional_roles')[0].get('name') if vac_annote.get('professional_roles')[0] else None,\n",
    "        ]\n",
    "    except Exception as e:\n",
    "        print('vac_df', vac_id, e)\n",
    "    \n",
    "    #формирование датафрейма с информацией по работодателю из вакансий\n",
    "    try:\n",
    "        emp_df.loc[len(emp_df)] = [\n",
    "            vac_annote.get('id'),\n",
    "            vac_annote.get('employer').get('id'), \n",
    "            vac_annote.get('employer').get('name'),\n",
    "            vac_annote.get('address').get('raw') if vac_annote.get('address') else None,\n",
    "            vac_annote.get('employer').get('alternate_url'),\n",
    "            vac_annote.get('employer').get('accredited_it_employer'),\n",
    "            vac_annote.get('employer').get('trusted')\n",
    "        ]\n",
    "    except Exception as e:\n",
    "        print('emp_df', vac_id, e)\n",
    "\n",
    "    #формирование датафрейма с информацией по заработной плате из вакансий\n",
    "    try:\n",
    "        sal_df.loc[len(sal_df)] = [\n",
    "            vac_annote.get('id'), \n",
    "            vac_annote.get('salary').get('from'),\n",
    "            vac_annote.get('salary').get('to'),\n",
    "            vac_annote.get('salary').get('currency'),\n",
    "            vac_annote.get('salary').get('gross'),\n",
    "            vac_annote.get('salary_range').get('mode').get('name'),\n",
    "            vac_annote.get('salary_range').get('mode').get('frequency')\n",
    "        ]\n",
    "    except Exception as e:\n",
    "        print('sal_df', vac_id, e)\n",
    "\n",
    "    try:\n",
    "        req_df.loc[len(req_df)] = [\n",
    "            vac_annote.get('id'), \n",
    "            vac_annote.get('insider_interview'),\n",
    "            vac_annote.get('response_letter_required'),\n",
    "            vac_annote.get('experience').get('name'),\n",
    "            get_skills_str(vac_annote.get('key_skills') ) if vac_annote.get('key_skills') else None,\n",
    "            vac_annote.get('has_test')\n",
    "        ]\n",
    "    except Exception as e:\n",
    "        print('req_df', vac_id, e)\n",
    "\n",
    "print('Done')"
   ]
  },
  {
   "cell_type": "code",
   "execution_count": 9,
   "metadata": {},
   "outputs": [],
   "source": [
    "vac_df.to_csv('vac_df.csv')\n",
    "req_df.to_csv('req_df.csv')\n",
    "sal_df.to_csv('sal_df.csv')\n",
    "emp_df.to_csv('emp_df.csv')"
   ]
  },
  {
   "cell_type": "code",
   "execution_count": null,
   "id": "bdf45a2d",
   "metadata": {},
   "outputs": [],
   "source": []
  },
  {
   "cell_type": "code",
   "execution_count": null,
   "id": "7e363f27",
   "metadata": {},
   "outputs": [],
   "source": []
  },
  {
   "cell_type": "code",
   "execution_count": null,
   "id": "b2755f60",
   "metadata": {},
   "outputs": [],
   "source": []
  }
 ],
 "metadata": {
  "kernelspec": {
   "display_name": "hhvenv",
   "language": "python",
   "name": "python3"
  },
  "language_info": {
   "codemirror_mode": {
    "name": "ipython",
    "version": 3
   },
   "file_extension": ".py",
   "mimetype": "text/x-python",
   "name": "python",
   "nbconvert_exporter": "python",
   "pygments_lexer": "ipython3",
   "version": "3.12.3"
  }
 },
 "nbformat": 4,
 "nbformat_minor": 5
}
