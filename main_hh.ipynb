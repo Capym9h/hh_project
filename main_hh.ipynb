{
 "cells": [
  {
   "cell_type": "code",
   "execution_count": 2,
   "id": "09ee3fa6",
   "metadata": {},
   "outputs": [],
   "source": [
    "import os\n",
    "from time import sleep\n",
    "from dotenv import dotenv_values\n",
    "\n",
    "import json\n",
    "import requests\n",
    "\n",
    "import numpy as np\n",
    "import pandas as pd \n",
    "from tqdm import tqdm\n",
    "\n",
    "from geopy.geocoders import Nominatim"
   ]
  },
  {
   "cell_type": "code",
   "execution_count": 4,
   "id": "f6a06175",
   "metadata": {},
   "outputs": [],
   "source": [
    "pd.set_option('display.max_columns', None)"
   ]
  },
  {
   "cell_type": "code",
   "execution_count": 5,
   "id": "341868f9",
   "metadata": {},
   "outputs": [],
   "source": [
    "def get_vacancies_id(header:dict, param:dict=None, URL:str='https://api.hh.ru/vacancies', per_page:int=100, time_delay:float=0)->json:\n",
    "    sleep(time_delay)\n",
    "    return requests.get(url=URL, headers=header, params=param).json()"
   ]
  },
  {
   "cell_type": "code",
   "execution_count": 6,
   "id": "d489b8fe",
   "metadata": {},
   "outputs": [],
   "source": [
    "JOB_TITLE = 'Аналитик данных'\n",
    "\n",
    "USER_AGENT = dotenv_values('.env')['USER_AGENT']\n",
    "CACHE_FILE = dotenv_values('.env')['CACHE_FILE']\n",
    "PATH_TO_YANDEXDISC = dotenv_values('.env')['PATH_TO_YANDEXDISC']\n",
    "\n",
    "BASE_URL='https://api.hh.ru/vacancies'\n",
    "\n",
    "PER_PAGE = 100\n",
    "\n",
    "header = {'User-Agent':USER_AGENT}\n",
    "param = {'text': JOB_TITLE,\n",
    "          'search_field': 'name',\n",
    "          'page': 0,\n",
    "          'per_page': PER_PAGE,\n",
    "          'only_with_salary': True,\n",
    "          'locale': 'RU'}"
   ]
  },
  {
   "cell_type": "code",
   "execution_count": 9,
   "id": "88d4cde1",
   "metadata": {},
   "outputs": [
    {
     "data": {
      "text/plain": [
       "(203, 3, 0)"
      ]
     },
     "execution_count": 9,
     "metadata": {},
     "output_type": "execute_result"
    }
   ],
   "source": [
    "resp = get_vacancies_id(header, param, per_page=PER_PAGE)\n",
    "\n",
    "VAC_CNT = resp['found']\n",
    "PAGES_CNT = resp['pages']\n",
    "current_page = resp['page']\n",
    "VAC_CNT, PAGES_CNT, current_page"
   ]
  },
  {
   "cell_type": "code",
   "execution_count": 10,
   "id": "c256b560",
   "metadata": {},
   "outputs": [
    {
     "name": "stdout",
     "output_type": "stream",
     "text": [
      "Smt went WRONG\n",
      "204___203\n"
     ]
    }
   ],
   "source": [
    "vac_ids = []\n",
    "current_page = 0\n",
    "PAGES_CNT = 999\n",
    "\n",
    "while current_page <= PAGES_CNT-1:\n",
    "    resp = get_vacancies_id(header, param, per_page=PER_PAGE)\n",
    "    current_page = resp['page']\n",
    "    PAGES_CNT = resp['pages']\n",
    "\n",
    "    for item in resp['items']:\n",
    "        vac_ids.append(item['id'])\n",
    "\n",
    "    param['page'] = current_page + 1\n",
    "    resp = get_vacancies_id(header, param, per_page=PER_PAGE)\n",
    "    current_page = resp['page']\n",
    "\n",
    "\n",
    "print(\"It's all OK\" if len(set(vac_ids)) == VAC_CNT else f\"Smt went WRONG\\n{len(set(vac_ids))}___{VAC_CNT}\")"
   ]
  },
  {
   "cell_type": "code",
   "execution_count": 11,
   "id": "2683beb5",
   "metadata": {},
   "outputs": [],
   "source": [
    "def get_skills_str(key_skills:list)->str:\n",
    "    '''Функция преобразования списка словарей требуемых скилов в строку'''\n",
    "    result = []\n",
    "    for skill in key_skills:\n",
    "        result.append(skill.get('name'))\n",
    "    return '; '.join(result)"
   ]
  },
  {
   "cell_type": "code",
   "execution_count": 12,
   "id": "a16b637c",
   "metadata": {},
   "outputs": [],
   "source": [
    "CURRENCY_CACHE = {}\n",
    "updated_currency = False\n",
    "\n",
    "def get_curse_valute(valute: str) -> float:\n",
    "    global CURRENCY_CACHE, updated_currency\n",
    "\n",
    "    valute = valute.upper()\n",
    "\n",
    "    #исключения для написания валют на HH\n",
    "    exception_valute={'BYR':'BYN'} \n",
    "    if valute in exception_valute:\n",
    "        valute=exception_valute[valute]\n",
    "\n",
    "    CURRENCY_CACHE = {}\n",
    "    CACHE_FILE = r'resources/valute_cache.json'\n",
    "\n",
    "    if os.path.exists(CACHE_FILE):\n",
    "        with open(CACHE_FILE) as f:\n",
    "            CURRENCY_CACHE = json.load(f)\n",
    "    \n",
    "    if not updated_currency:\n",
    "        try:\n",
    "            #пробуем запросить курсы валют\n",
    "            res = requests.get(\"https://www.cbr-xml-daily.ru/daily_json.js\", timeout=3).json()\n",
    "            valutes = res.get('Valute', {})\n",
    "            \n",
    "            #обновим файл с кэшом\n",
    "            for code, data in valutes.items():\n",
    "                nominal = data.get('Nominal', 1)\n",
    "                value = data.get('Value')\n",
    "                if nominal and value:\n",
    "                    CURRENCY_CACHE[code] = value / nominal\n",
    "\n",
    "            #сохраним курс\n",
    "            with open(CACHE_FILE, 'w') as f:\n",
    "                json.dump(CURRENCY_CACHE, f, ensure_ascii=False, indent=2)\n",
    "            \n",
    "            updated_currency = True\n",
    "\n",
    "        except Exception as e:\n",
    "            print(f'Error: Не удалось обновить курсы валют ({e})')\n",
    "\n",
    "    # Возвращаем запрошенную валюту (если есть в ответе)\n",
    "    if valute in CURRENCY_CACHE:\n",
    "        return CURRENCY_CACHE[valute]\n",
    "    \n",
    "    print(f'Error: Не удалось определить курс валюты {valute}')\n",
    "    return 1"
   ]
  },
  {
   "cell_type": "code",
   "execution_count": 17,
   "id": "fbacaf50",
   "metadata": {},
   "outputs": [
    {
     "name": "stderr",
     "output_type": "stream",
     "text": [
      "Получение описания вакансий...:   0%|          | 0/204 [00:00<?, ?it/s]"
     ]
    },
    {
     "name": "stderr",
     "output_type": "stream",
     "text": [
      "Получение описания вакансий...: 100%|██████████| 204/204 [01:50<00:00,  1.84it/s]"
     ]
    },
    {
     "name": "stdout",
     "output_type": "stream",
     "text": [
      "Success: Parsing done\n"
     ]
    },
    {
     "name": "stderr",
     "output_type": "stream",
     "text": [
      "\n"
     ]
    }
   ],
   "source": [
    "data_list = []\n",
    "\n",
    "for vac_id in tqdm(vac_ids, desc='Получение описания вакансий...'):\n",
    "    try:\n",
    "        vac_annote = get_vacancies_id(header=header, URL=BASE_URL+f'/{vac_id}', time_delay=0.4)\n",
    "\n",
    "\n",
    "        employer = vac_annote.get('employer')\n",
    "        salary_range = vac_annote.get('salary_range', {})\n",
    "        mode = salary_range.get('mode', {}) if salary_range else {}\n",
    "        prof_roles = vac_annote.get('professional_roles', [])\n",
    "\n",
    "\n",
    "        salary_from = None\n",
    "        salary_to = None\n",
    "\n",
    "        # Обработка периода оплаты\n",
    "        mode_name = mode.get('name', 'За месяц').replace('\\xa0',' ')\n",
    "        coef = 1\n",
    "        if 'час' in mode_name:\n",
    "            coef = 160 #160 рабочих часов в месяц\n",
    "        elif 'год' in mode_name:\n",
    "            coef = 1/12\n",
    "\n",
    "        #обработка gross значений\n",
    "        salary = vac_annote.get('salary')\n",
    "        if salary:\n",
    "            is_gross = salary.get('gross', True)\n",
    "            conversion_rate = 0.87 if is_gross else 1.0\n",
    "\n",
    "            raw_from = salary.get('from')\n",
    "            raw_to = salary.get('to')\n",
    "            #salary_from\n",
    "            if raw_from is not None:\n",
    "                salary_from = raw_from * coef * conversion_rate\n",
    "            #salary_to\n",
    "            if raw_to is not None:\n",
    "                salary_to = raw_to * coef * conversion_rate\n",
    "            \n",
    "            #переводим в рубли,если значение не в рублях\n",
    "            currency = salary.get('currency')\n",
    "            if currency and currency != 'RUR':\n",
    "                rate = get_curse_valute(currency)\n",
    "        \n",
    "                if salary_from is not None:\n",
    "                    salary_from = round(salary_from * rate)\n",
    "                \n",
    "                if salary_to is not None:\n",
    "                    salary_to = round(salary_to * rate)\n",
    "\n",
    "\n",
    "\n",
    "        #обработка широты и долготы\n",
    "        address = vac_annote.get('address')\n",
    "        lat = address.get('lat') if address else None\n",
    "        lng = address.get('lng') if address else None\n",
    "        geo = f\"[{lat}, {lng}]\" if lat is not None and lng is not None else None\n",
    "\n",
    "        \n",
    "        #Определение грейда вакансии\n",
    "        name = vac_annote.get('name', '').lower()\n",
    "        if any(word in name for word in ['стажер', 'стажёр', 'интерн', 'помощник', 'intern', 'trainee']):\n",
    "            grade = 'Intern'\n",
    "        elif any(word in name for word in ['младший', 'junior', 'джуниор', 'начинающий']):\n",
    "            grade = 'Junior'\n",
    "        elif any(word in name for word in ['мидл', 'middle', 'средний', 'mid-level']):\n",
    "            grade = 'Middle'\n",
    "        elif any(word in name for word in ['сеньор', 'senior', 'старший', 'ведущий', 'опытный']):\n",
    "            grade = 'Senior'\n",
    "        elif any(word in name for word in ['тимлид', 'teamlead', 'руководитель', 'lead', 'главный']):\n",
    "            grade = 'Team Lead'\n",
    "        else:\n",
    "            grade = 'Middle'\n",
    "\n",
    "\n",
    "\n",
    "        row = {\n",
    "            'vac_id': vac_annote.get('id'),\n",
    "            'vac_name': vac_annote.get('name'),\n",
    "            'grade':grade,\n",
    "            'city': vac_annote.get('area', {}).get('name'),\n",
    "            'geo': geo,\n",
    "            'published_at': vac_annote.get('published_at'),\n",
    "            'archived': vac_annote.get('archived'),\n",
    "            'employer_id': employer.get('id') if employer else None,\n",
    "            'emp_name': vac_annote.get('employment', {}).get('name'),\n",
    "            'addres': address.get('raw') if address else None,\n",
    "            'is_accredited': employer.get('accredited_it_employer') if employer else None,\n",
    "            'is_trusted': employer.get('trusted') if employer else None,\n",
    "            'salary_from' : salary_from,\n",
    "            'salary_to' : salary_to,\n",
    "            'currency': salary.get('currency') if salary else None,\n",
    "            'gross': salary.get('gross') if salary else None,\n",
    "            'mode_name': mode.get('name'),\n",
    "            'frequency': mode.get('frequency'),\n",
    "            'prof_role': prof_roles[0].get('name') if prof_roles else None,\n",
    "            'schedule_name': vac_annote.get('schedule', {}).get('name'),\n",
    "            'insider_interview': vac_annote.get('insider_interview'),\n",
    "            'response_letter_required': vac_annote.get('response_letter_required'),\n",
    "            'experience': vac_annote.get('experience', {}).get('name'),\n",
    "            'key_skills': get_skills_str(vac_annote.get('key_skills')) if vac_annote.get('key_skills') else None,\n",
    "            'has_test': vac_annote.get('has_test'),\n",
    "            'description': vac_annote.get('description'),\n",
    "            'url':vac_annote.get('alternate_url')\n",
    "        }\n",
    "        data_list.append(row)\n",
    "        \n",
    "    except Exception as e:\n",
    "        print(f'Error processing vac_id {vac_id}: {e}')\n",
    "\n",
    "# Создаем DataFrame одним вызовом\n",
    "full_df = pd.DataFrame(data_list)\n",
    "print('Success: Parsing done')"
   ]
  },
  {
   "cell_type": "code",
   "execution_count": 19,
   "id": "be03c505",
   "metadata": {},
   "outputs": [
    {
     "data": {
      "text/html": [
       "<div>\n",
       "<style scoped>\n",
       "    .dataframe tbody tr th:only-of-type {\n",
       "        vertical-align: middle;\n",
       "    }\n",
       "\n",
       "    .dataframe tbody tr th {\n",
       "        vertical-align: top;\n",
       "    }\n",
       "\n",
       "    .dataframe thead th {\n",
       "        text-align: right;\n",
       "    }\n",
       "</style>\n",
       "<table border=\"1\" class=\"dataframe\">\n",
       "  <thead>\n",
       "    <tr style=\"text-align: right;\">\n",
       "      <th></th>\n",
       "      <th>vac_id</th>\n",
       "      <th>vac_name</th>\n",
       "      <th>grade</th>\n",
       "      <th>city</th>\n",
       "      <th>geo</th>\n",
       "      <th>published_at</th>\n",
       "      <th>archived</th>\n",
       "      <th>employer_id</th>\n",
       "      <th>emp_name</th>\n",
       "      <th>addres</th>\n",
       "      <th>is_accredited</th>\n",
       "      <th>is_trusted</th>\n",
       "      <th>salary_from</th>\n",
       "      <th>salary_to</th>\n",
       "      <th>currency</th>\n",
       "      <th>gross</th>\n",
       "      <th>mode_name</th>\n",
       "      <th>frequency</th>\n",
       "      <th>prof_role</th>\n",
       "      <th>schedule_name</th>\n",
       "      <th>insider_interview</th>\n",
       "      <th>response_letter_required</th>\n",
       "      <th>experience</th>\n",
       "      <th>key_skills</th>\n",
       "      <th>has_test</th>\n",
       "      <th>description</th>\n",
       "      <th>url</th>\n",
       "    </tr>\n",
       "  </thead>\n",
       "  <tbody>\n",
       "    <tr>\n",
       "      <th>141</th>\n",
       "      <td>122429339</td>\n",
       "      <td>Аналитик 1с / миграция анализ учёт и хранение ...</td>\n",
       "      <td>Middle</td>\n",
       "      <td>Санкт-Петербург</td>\n",
       "      <td>[55.864505, 37.544449]</td>\n",
       "      <td>2025-07-04T17:31:30+0300</td>\n",
       "      <td>False</td>\n",
       "      <td>1217056</td>\n",
       "      <td>Полная занятость</td>\n",
       "      <td>Москва, Коровинское шоссе, 1А</td>\n",
       "      <td>False</td>\n",
       "      <td>True</td>\n",
       "      <td>NaN</td>\n",
       "      <td>159840.0</td>\n",
       "      <td>RUR</td>\n",
       "      <td>False</td>\n",
       "      <td>За час</td>\n",
       "      <td>None</td>\n",
       "      <td>Другое</td>\n",
       "      <td>Удаленная работа</td>\n",
       "      <td>None</td>\n",
       "      <td>False</td>\n",
       "      <td>От 3 до 6 лет</td>\n",
       "      <td>1С-Битрикс; Аналитическое мышление; 1С: Предпр...</td>\n",
       "      <td>False</td>\n",
       "      <td>&lt;p&gt;&lt;strong&gt;Обязанности&lt;/strong&gt;:&lt;/p&gt; &lt;p&gt;• Поша...</td>\n",
       "      <td>https://hh.ru/vacancy/122429339</td>\n",
       "    </tr>\n",
       "  </tbody>\n",
       "</table>\n",
       "</div>"
      ],
      "text/plain": [
       "        vac_id                                           vac_name   grade  \\\n",
       "141  122429339  Аналитик 1с / миграция анализ учёт и хранение ...  Middle   \n",
       "\n",
       "                city                     geo              published_at  \\\n",
       "141  Санкт-Петербург  [55.864505, 37.544449]  2025-07-04T17:31:30+0300   \n",
       "\n",
       "     archived employer_id          emp_name                         addres  \\\n",
       "141     False     1217056  Полная занятость  Москва, Коровинское шоссе, 1А   \n",
       "\n",
       "     is_accredited  is_trusted  salary_from  salary_to currency  gross  \\\n",
       "141          False        True          NaN   159840.0      RUR  False   \n",
       "\n",
       "    mode_name frequency prof_role     schedule_name insider_interview  \\\n",
       "141    За час      None    Другое  Удаленная работа              None   \n",
       "\n",
       "     response_letter_required     experience  \\\n",
       "141                     False  От 3 до 6 лет   \n",
       "\n",
       "                                            key_skills  has_test  \\\n",
       "141  1С-Битрикс; Аналитическое мышление; 1С: Предпр...     False   \n",
       "\n",
       "                                           description  \\\n",
       "141  <p><strong>Обязанности</strong>:</p> <p>• Поша...   \n",
       "\n",
       "                                 url  \n",
       "141  https://hh.ru/vacancy/122429339  "
      ]
     },
     "execution_count": 19,
     "metadata": {},
     "output_type": "execute_result"
    }
   ],
   "source": [
    "full_df[full_df.mode_name == 'За\\xa0час']"
   ]
  },
  {
   "cell_type": "code",
   "execution_count": 59,
   "id": "031e1c37",
   "metadata": {},
   "outputs": [],
   "source": [
    "geolocator = Nominatim(user_agent=\"geoapi\", timeout=10)\n",
    "\n",
    "def load_cache():\n",
    "    # Загрузка кэша из файла\n",
    "    if os.path.exists(CACHE_FILE):\n",
    "        try:\n",
    "            with open(CACHE_FILE, 'r', encoding='utf-8') as f:\n",
    "                return json.load(f)\n",
    "        except:\n",
    "            return {}\n",
    "    print('⚠️ Warning: Cache file not found')\n",
    "    return {}\n",
    "\n",
    "\n",
    "def get_geopoints(city: str, cache: dict) -> str:\n",
    "    # Получение координат с использованием кэша\n",
    "    if not city or pd.isna(city):\n",
    "        return None\n",
    "    \n",
    "    # Проверяем кэш\n",
    "    if city in cache:\n",
    "        return cache[city]\n",
    "    \n",
    "    # Геокодирование если нет в кэше\n",
    "    try:\n",
    "        location = geolocator.geocode(f\"{city}\")\n",
    "        if location:\n",
    "            result = f'[{str(location.latitude)}, {str(location.longitude)}]'\n",
    "        else:\n",
    "            print(f'Error: Went wrong with {city}')\n",
    "            result = None\n",
    "    except Exception:\n",
    "        result = None\n",
    "    \n",
    "    # Обновляем кэш\n",
    "    cache[city] = result\n",
    "    return result\n",
    "\n",
    "\n",
    "def save_cache(cache):\n",
    "    # Сохранение кэша в файл\n",
    "    with open(CACHE_FILE, 'w', encoding='utf-8') as f:\n",
    "        json.dump(cache, f, ensure_ascii=False, indent=2)"
   ]
  },
  {
   "cell_type": "code",
   "execution_count": 60,
   "id": "333a638c",
   "metadata": {},
   "outputs": [],
   "source": [
    "cache = load_cache()\n",
    "mask = full_df.geo.isna()\n",
    "full_df.loc[mask, 'geo'] = full_df.loc[mask, 'city'].apply(lambda x: get_geopoints(x, cache))\n",
    "\n",
    "save_cache(cache)"
   ]
  },
  {
   "cell_type": "markdown",
   "id": "58ecdb4f",
   "metadata": {},
   "source": [
    "--- "
   ]
  },
  {
   "cell_type": "code",
   "execution_count": 61,
   "metadata": {},
   "outputs": [
    {
     "name": "stdout",
     "output_type": "stream",
     "text": [
      "✔ Success: DataFrame saved\n"
     ]
    }
   ],
   "source": [
    "full_df.to_csv('resources/full_df.csv')\n",
    "print('✔ Success: DataFrame saved')"
   ]
  },
  {
   "cell_type": "code",
   "execution_count": 48,
   "id": "7b2935c3",
   "metadata": {},
   "outputs": [
    {
     "name": "stdout",
     "output_type": "stream",
     "text": [
      "✔ Success: DataFrame saved to YandexDisc\n"
     ]
    }
   ],
   "source": [
    "full_df.to_excel(PATH_TO_YANDEXDISC+'\\\\my.xlsx')\n",
    "print('✔ Success: DataFrame saved to YandexDisc')"
   ]
  }
 ],
 "metadata": {
  "kernelspec": {
   "display_name": "hhvenv",
   "language": "python",
   "name": "python3"
  },
  "language_info": {
   "codemirror_mode": {
    "name": "ipython",
    "version": 3
   },
   "file_extension": ".py",
   "mimetype": "text/x-python",
   "name": "python",
   "nbconvert_exporter": "python",
   "pygments_lexer": "ipython3",
   "version": "3.12.3"
  }
 },
 "nbformat": 4,
 "nbformat_minor": 5
}
