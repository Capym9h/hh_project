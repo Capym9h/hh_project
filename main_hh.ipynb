{
 "cells": [
  {
   "cell_type": "code",
   "execution_count": 40,
   "id": "09ee3fa6",
   "metadata": {},
   "outputs": [],
   "source": [
    "import json\n",
    "import requests\n",
    "import numpy as np\n",
    "import pandas as pd \n",
    "from tqdm import tqdm\n",
    "from time import sleep\n",
    "from dotenv import dotenv_values"
   ]
  },
  {
   "cell_type": "code",
   "execution_count": 41,
   "id": "341868f9",
   "metadata": {},
   "outputs": [],
   "source": [
    "def get_vacancies_id(header:dict, param:dict=None, URL:str='https://api.hh.ru/vacancies', per_page:int=100, time_delay:float=0)->json:\n",
    "    sleep(time_delay)\n",
    "    return requests.get(url=URL, headers=header, params=param).json()"
   ]
  },
  {
   "cell_type": "code",
   "execution_count": 42,
   "id": "d489b8fe",
   "metadata": {},
   "outputs": [],
   "source": [
    "JOB_TITLE = 'Аналитик данных'\n",
    "\n",
    "USER_AGENT = dotenv_values('.env')['USER_AGENT']\n",
    "BASE_URL='https://api.hh.ru/vacancies'\n",
    "\n",
    "PER_PAGE = 100\n",
    "\n",
    "header = {'User-Agent':USER_AGENT}\n",
    "param = {'text': JOB_TITLE,\n",
    "          'search_field': 'name',\n",
    "          'page': 0,\n",
    "          'per_page': PER_PAGE,\n",
    "          'only_with_salary': True,\n",
    "          'locale': 'RU'}"
   ]
  },
  {
   "cell_type": "code",
   "execution_count": 43,
   "id": "88d4cde1",
   "metadata": {},
   "outputs": [
    {
     "data": {
      "text/plain": [
       "(194, 2, 0)"
      ]
     },
     "execution_count": 43,
     "metadata": {},
     "output_type": "execute_result"
    }
   ],
   "source": [
    "resp = get_vacancies_id(header, param, per_page=PER_PAGE)\n",
    "\n",
    "VAC_CNT = resp['found']\n",
    "PAGES_CNT = resp['pages']\n",
    "current_page = resp['page']\n",
    "VAC_CNT, PAGES_CNT, current_page"
   ]
  },
  {
   "cell_type": "code",
   "execution_count": 44,
   "id": "c256b560",
   "metadata": {},
   "outputs": [
    {
     "name": "stdout",
     "output_type": "stream",
     "text": [
      "Smt went WRONG\n",
      "195___194\n"
     ]
    }
   ],
   "source": [
    "vac_ids = []\n",
    "current_page = 0\n",
    "PAGES_CNT = 999\n",
    "\n",
    "while current_page <= PAGES_CNT-1:\n",
    "    resp = get_vacancies_id(header, param, per_page=PER_PAGE)\n",
    "    current_page = resp['page']\n",
    "    PAGES_CNT = resp['pages']\n",
    "\n",
    "    for item in resp['items']:\n",
    "        vac_ids.append(item['id'])\n",
    "\n",
    "    param['page'] = current_page + 1\n",
    "    resp = get_vacancies_id(header, param, per_page=PER_PAGE)\n",
    "    current_page = resp['page']\n",
    "\n",
    "\n",
    "print(\"It's all OK\" if len(set(vac_ids)) == VAC_CNT else f\"Smt went WRONG\\n{len(set(vac_ids))}___{VAC_CNT}\")"
   ]
  },
  {
   "cell_type": "code",
   "execution_count": 45,
   "id": "2683beb5",
   "metadata": {},
   "outputs": [],
   "source": [
    "def get_skills_str(key_skills:list)->str:\n",
    "    '''Функция преобразования списка словарей требуемых скилов в строку'''\n",
    "    result = []\n",
    "    for skill in key_skills:\n",
    "        result.append(skill.get('name'))\n",
    "    return '; '.join(result)"
   ]
  },
  {
   "cell_type": "code",
   "execution_count": 46,
   "id": "fbacaf50",
   "metadata": {},
   "outputs": [
    {
     "name": "stderr",
     "output_type": "stream",
     "text": [
      "Getting annotation...:: 100%|██████████| 195/195 [01:53<00:00,  1.72it/s]"
     ]
    },
    {
     "name": "stdout",
     "output_type": "stream",
     "text": [
      "Success: Parsing done\n"
     ]
    },
    {
     "name": "stderr",
     "output_type": "stream",
     "text": [
      "\n"
     ]
    }
   ],
   "source": [
    "full_df = pd.DataFrame(columns=[\n",
    "    'vac_id',\n",
    "    'vac_name',\n",
    "    'city',\n",
    "    'geo',\n",
    "    'published_at',\n",
    "    'archived',\n",
    "    'employer_id',\n",
    "    'emp_name',\n",
    "    'addres',\n",
    "    'is_accredited',\n",
    "    'is_trusted',\n",
    "    'salary_from',\n",
    "    'salary_to',\n",
    "    'currency',\n",
    "    'gross',\n",
    "    'mode_name',\n",
    "    'frequency',\n",
    "    'prof_role',\n",
    "    'schedule_name',\n",
    "    'insider_interview',\n",
    "    'response_letter_required',\n",
    "    'experience',\n",
    "    'key_skills',\n",
    "    'has_test',\n",
    "    'description'\n",
    "])\n",
    "\n",
    "for vac_id in tqdm(vac_ids, desc= 'Getting annotation...:'):\n",
    "    try:\n",
    "        vac_annote = get_vacancies_id(header=header, URL=BASE_URL+f'/{vac_id}', time_delay=0.4)\n",
    "        full_df.loc[len(full_df)] = [\n",
    "            vac_annote.get('id'), \n",
    "            vac_annote.get('name'),\n",
    "            vac_annote.get('area').get('name'),\n",
    "            '/'.join([str(vac_annote.get('address').get('lat')), str(vac_annote.get('address').get('lng'))]) if vac_annote.get('address') else None,\n",
    "            vac_annote.get('published_at'),\n",
    "            vac_annote.get('archived'),\n",
    "            vac_annote.get('employer').get('id'),\n",
    "            vac_annote.get('employment').get('name'),\n",
    "            vac_annote.get('address').get('raw') if vac_annote.get('address') else None,\n",
    "            vac_annote.get('employer').get('accredited_it_employer'),\n",
    "            vac_annote.get('employer').get('trusted'),\n",
    "            vac_annote.get('salary').get('from'),\n",
    "            vac_annote.get('salary').get('to'),\n",
    "            vac_annote.get('salary').get('currency'),\n",
    "            vac_annote.get('salary').get('gross'),\n",
    "            vac_annote.get('salary_range').get('mode').get('name'),\n",
    "            vac_annote.get('salary_range').get('mode').get('frequency'),\n",
    "            vac_annote.get('professional_roles')[0].get('name') if vac_annote.get('professional_roles')[0] else None,\n",
    "            vac_annote.get('schedule').get('name'),\n",
    "            vac_annote.get('insider_interview'),\n",
    "            vac_annote.get('response_letter_required'),\n",
    "            vac_annote.get('experience').get('name'),\n",
    "            get_skills_str(vac_annote.get('key_skills') ) if vac_annote.get('key_skills') else None,\n",
    "            vac_annote.get('has_test'),\n",
    "            vac_annote.get('description')\n",
    "        ]\n",
    "    except Exception as e:\n",
    "        print('full_df', vac_id, e)\n",
    "\n",
    "print('Success: Parsing done')"
   ]
  },
  {
   "cell_type": "markdown",
   "id": "58ecdb4f",
   "metadata": {},
   "source": [
    "--- "
   ]
  },
  {
   "cell_type": "code",
   "execution_count": null,
   "metadata": {},
   "outputs": [
    {
     "name": "stdout",
     "output_type": "stream",
     "text": [
      "Success: DataFrame saved\n"
     ]
    }
   ],
   "source": [
    "full_df.to_csv('resources/full_df.csv')\n",
    "\n",
    "print('Success: DataFrame saved')"
   ]
  }
 ],
 "metadata": {
  "kernelspec": {
   "display_name": ".venv",
   "language": "python",
   "name": "python3"
  },
  "language_info": {
   "codemirror_mode": {
    "name": "ipython",
    "version": 3
   },
   "file_extension": ".py",
   "mimetype": "text/x-python",
   "name": "python",
   "nbconvert_exporter": "python",
   "pygments_lexer": "ipython3",
   "version": "3.12.8"
  }
 },
 "nbformat": 4,
 "nbformat_minor": 5
}
