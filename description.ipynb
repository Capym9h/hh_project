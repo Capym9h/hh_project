{
 "cells": [
  {
   "cell_type": "code",
   "execution_count": 1,
   "id": "93e117a4",
   "metadata": {},
   "outputs": [],
   "source": [
    "import pandas as pd"
   ]
  },
  {
   "cell_type": "code",
   "execution_count": 2,
   "id": "ec80a30e",
   "metadata": {},
   "outputs": [],
   "source": [
    "import re\n",
    "\n",
    "def clean_html_text(html_text):\n",
    "    # Удаляем все HTML-теги\n",
    "    clean_text = re.sub(r'<[^>]+>', '', html_text)\n",
    "    \n",
    "    # Заменяем HTML-сущности\n",
    "    clean_text = clean_text.replace('&nbsp;', ' ')\n",
    "    \n",
    "    # Убираем лишние пробелы и переносы строк\n",
    "    clean_text = re.sub(r'\\s*\\n\\s*', '\\n', clean_text)  # Нормализуем переносы строк\n",
    "    clean_text = re.sub(r'[ \\t]{2,}', ' ', clean_text)  # Убираем множественные пробелы/табы\n",
    "    clean_text = re.sub(r'\\n{3,}', '\\n\\n', clean_text)  # Убираем множественные пустые строки\n",
    "    \n",
    "    # Форматируем пункты списка\n",
    "    clean_text = re.sub(r'(?<=\\S)\\n-', '\\n-', clean_text)  # Переносы перед пунктами\n",
    "    \n",
    "    # Убираем пробелы в начале/конце строк и всего текста\n",
    "    clean_text = '\\n'.join(line.strip() for line in clean_text.splitlines())\n",
    "    return clean_text.strip()"
   ]
  },
  {
   "cell_type": "code",
   "execution_count": 3,
   "id": "37e20ce8",
   "metadata": {},
   "outputs": [],
   "source": [
    "df = pd.read_csv('resources/dataframes/req_df.csv', index_col=[0])"
   ]
  },
  {
   "cell_type": "code",
   "execution_count": 19,
   "id": "0284bb0e",
   "metadata": {},
   "outputs": [
    {
     "data": {
      "text/html": [
       "<div>\n",
       "<style scoped>\n",
       "    .dataframe tbody tr th:only-of-type {\n",
       "        vertical-align: middle;\n",
       "    }\n",
       "\n",
       "    .dataframe tbody tr th {\n",
       "        vertical-align: top;\n",
       "    }\n",
       "\n",
       "    .dataframe thead th {\n",
       "        text-align: right;\n",
       "    }\n",
       "</style>\n",
       "<table border=\"1\" class=\"dataframe\">\n",
       "  <thead>\n",
       "    <tr style=\"text-align: right;\">\n",
       "      <th></th>\n",
       "      <th>vac_id</th>\n",
       "      <th>insider_interview</th>\n",
       "      <th>response_letter_required</th>\n",
       "      <th>experience</th>\n",
       "      <th>key_skills</th>\n",
       "      <th>has_test</th>\n",
       "      <th>description</th>\n",
       "    </tr>\n",
       "  </thead>\n",
       "  <tbody>\n",
       "    <tr>\n",
       "      <th>73</th>\n",
       "      <td>122577891</td>\n",
       "      <td>NaN</td>\n",
       "      <td>False</td>\n",
       "      <td>От 1 года до 3 лет</td>\n",
       "      <td>MS SQL; Python; Основы баз данных; SQL; ETL; DWH</td>\n",
       "      <td>False</td>\n",
       "      <td>&lt;p&gt;&lt;strong&gt;ПРИСОЕДИНЯЙСЯ К НАМ — ВЫХОДИ НА НОВ...</td>\n",
       "    </tr>\n",
       "  </tbody>\n",
       "</table>\n",
       "</div>"
      ],
      "text/plain": [
       "       vac_id insider_interview  response_letter_required          experience  \\\n",
       "73  122577891               NaN                     False  От 1 года до 3 лет   \n",
       "\n",
       "                                          key_skills  has_test  \\\n",
       "73  MS SQL; Python; Основы баз данных; SQL; ETL; DWH     False   \n",
       "\n",
       "                                          description  \n",
       "73  <p><strong>ПРИСОЕДИНЯЙСЯ К НАМ — ВЫХОДИ НА НОВ...  "
      ]
     },
     "execution_count": 19,
     "metadata": {},
     "output_type": "execute_result"
    }
   ],
   "source": [
    "samp = df.sample()\n",
    "samp"
   ]
  },
  {
   "cell_type": "code",
   "execution_count": 20,
   "id": "3e8edc86",
   "metadata": {},
   "outputs": [
    {
     "name": "stdout",
     "output_type": "stream",
     "text": [
      "MS SQL; Python; Основы баз данных; SQL; ETL; DWH \n",
      "\n",
      "\n",
      "ПРИСОЕДИНЯЙСЯ К НАМ — ВЫХОДИ НА НОВЫЙ КАРЬЕРНЫЙ УРОВЕНЬ .\n",
      " Если Вы :\n",
      " Умеете писать SQL\n",
      "- запросы для извлечения и последующего анализа собранных данных \n",
      ";  Владеете SQL для анализа данных, без проблем соберёте интересные и важные факты с десятка таблиц, а также выполните задачи по очистке и проверке данных \n",
      ";  Имеете опыт написания скриптов VBA, а также Python \n",
      ";  Обладаете повышенным вниманием к деталям и умеете работать с большими наборами данных \n",
      ";  Тогда смело направляйте свою резюме! Предпочитаемая квалификация :\n",
      " Высшее образование \n",
      ";  перечень пройденных курсов с указанием образовательных платформ в области SQL или управления базами данных (если они имеются) \n",
      ";  Перед Вами будут стоять следующие задачи :\n",
      " Писать SQL\n",
      "- запросы для извлечения и последующего анализа собранных данных \n",
      ";  выполнять задачи очистки и проверки данных \n",
      ";  Осуществлять сбор и анализ требований для создания внутренних Data\n",
      "- продуктов, включая ad\n",
      "- hoc запросы \n",
      ";  Осуществлять поддержку имеющихся Data\n",
      "- продуктов (обработка инцидентов и change requests) \n",
      ";  Участвовать в разработке ETL\n",
      "- процессов с дата\n",
      "- инженерами \n",
      ";  Поддерживать в актуальном состоянии документацию по процессу разработки скриптов и по структуре данных .\n",
      " Условия :\n",
      " Фиксированная ЗП, обсуждается индивидуально (зависит от опыта и уровня компетенций) + финансовый рост за результаты (премии, KPI) .\n",
      " Карьерный рост при достижении определенных показателей, вовлеченности в дело .\n",
      " Ежегодный отпуск 30 календарных дней + отпуск за выслугу и ненормированный рабочий день \n",
      ";  + 2 дополнительных ресурсных дня в квартал .\n",
      " Социальный пакет, включающий возможность прикрепления к ведомственной поликлинике, льготные путевки в ведомственные санатории .\n",
      " График работы 5/2 \n",
      ";  Ненормированный рабочий день .\n",
      "\n"
     ]
    }
   ],
   "source": [
    "desc = samp.description.to_list()[0]\n",
    "key_samp = samp.key_skills.to_list()[0]\n",
    "\n",
    "\n",
    "cleaned_text = clean_html_text(desc)\n",
    "print(key_samp, '\\n\\n')\n",
    "print(cleaned_text.replace('.',' .\\n').replace('-','\\n- ').replace(':',' :\\n').replace(';',' \\n; '))"
   ]
  }
 ],
 "metadata": {
  "kernelspec": {
   "display_name": ".venv",
   "language": "python",
   "name": "python3"
  },
  "language_info": {
   "codemirror_mode": {
    "name": "ipython",
    "version": 3
   },
   "file_extension": ".py",
   "mimetype": "text/x-python",
   "name": "python",
   "nbconvert_exporter": "python",
   "pygments_lexer": "ipython3",
   "version": "3.12.8"
  }
 },
 "nbformat": 4,
 "nbformat_minor": 5
}
