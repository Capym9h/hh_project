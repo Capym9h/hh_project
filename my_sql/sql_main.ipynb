{
 "cells": [
  {
   "cell_type": "code",
   "execution_count": 11,
   "id": "7c4ec23e",
   "metadata": {},
   "outputs": [],
   "source": [
    "import sqlite3\n",
    "import pandas as pd \n",
    "import numpy as np"
   ]
  },
  {
   "cell_type": "code",
   "execution_count": 12,
   "id": "18f2e489",
   "metadata": {},
   "outputs": [],
   "source": [
    "DBNAME = '../resources/my.db'"
   ]
  },
  {
   "cell_type": "markdown",
   "id": "16a0b50f",
   "metadata": {},
   "source": [
    "# SQL commands"
   ]
  },
  {
   "cell_type": "code",
   "execution_count": 13,
   "id": "2773ab5e",
   "metadata": {},
   "outputs": [],
   "source": [
    "create_table = \"\"\"\n",
    "CREATE TABLE IF NOT EXISTS full_sql\n",
    "    (vac_id INTEGER PRIMARY KEY,\n",
    "    vac_name TEXT,\n",
    "    city TEXT,\n",
    "    geo TEXT,\n",
    "    published_at TEXT,\n",
    "    archived INTEGER,\n",
    "    employer_id INTEGER,\n",
    "    emp_name TEXT,\n",
    "    addres TEXT,\n",
    "    is_accredited INTEGER,\n",
    "    is_trusted INTEGER,\n",
    "    salary_from INTEGER,\n",
    "    salary_to INTEGER,\n",
    "    currency TEXT,\n",
    "    gross INTEGER,\n",
    "    mode_name TEXT,\n",
    "    frequency TEXT,\n",
    "    prof_role TEXT,\n",
    "    schedule_name TEXT,\n",
    "    insider_interview INTEGER,\n",
    "    response_letter_required INTEGER,\n",
    "    experience TEXT,\n",
    "    key_skills TEXT,\n",
    "    has_test INTEGER,\n",
    "    description TEXT\n",
    "    )\n",
    "\"\"\"\n",
    "union_table = '''\n",
    "INSERT OR REPLACE INTO full_sql\n",
    "SELECT * FROM full_df'''\n",
    "\n"
   ]
  },
  {
   "cell_type": "markdown",
   "id": "65613032",
   "metadata": {},
   "source": [
    "--- "
   ]
  },
  {
   "cell_type": "markdown",
   "id": "2303bbbc",
   "metadata": {},
   "source": [
    "#"
   ]
  },
  {
   "cell_type": "code",
   "execution_count": 14,
   "id": "6a2cf35b",
   "metadata": {},
   "outputs": [],
   "source": [
    "def to_database(sqL_command:str, database_name:str):\n",
    "    try:\n",
    "        conn = sqlite3.connect(database_name)\n",
    "        with conn:\n",
    "            cur = conn.cursor()\n",
    "            cur.execute(sqL_command)\n",
    "            res = cur.fetchall()\n",
    "            conn.commit()\n",
    "    except Exception as e:\n",
    "        print(sqL_command,'\\n', e)\n",
    "    conn.close()"
   ]
  },
  {
   "cell_type": "code",
   "execution_count": 15,
   "id": "745e9aaf",
   "metadata": {},
   "outputs": [],
   "source": [
    "to_database(create_table, DBNAME)"
   ]
  },
  {
   "cell_type": "code",
   "execution_count": 16,
   "id": "7d0d885d",
   "metadata": {},
   "outputs": [
    {
     "name": "stdout",
     "output_type": "stream",
     "text": [
      "Success: DataFrame loaded\n"
     ]
    }
   ],
   "source": [
    "try:\n",
    "    full_df = pd.read_csv('../resources/full_df.csv', index_col=[0])\n",
    "except Exception as e:\n",
    "    print(f'Execption{e}: During loading full_df.csv')\n",
    "finally:\n",
    "    print('Success: DataFrame loaded')"
   ]
  },
  {
   "cell_type": "code",
   "execution_count": 17,
   "id": "f2e47ed4",
   "metadata": {},
   "outputs": [
    {
     "name": "stdout",
     "output_type": "stream",
     "text": [
      "Success: full_df UNION WITH full_sql\n"
     ]
    }
   ],
   "source": [
    "# создаем таблицы из датафреймов\n",
    "with sqlite3.connect(DBNAME) as conn:\n",
    "    full_df.to_sql('full_df', con=conn, if_exists='replace', index= False)\n",
    "to_database(union_table, DBNAME)\n",
    "conn.close()\n",
    "\n",
    "print('Success: full_df UNION WITH full_sql')"
   ]
  },
  {
   "cell_type": "code",
   "execution_count": 18,
   "id": "8f09cef9",
   "metadata": {},
   "outputs": [
    {
     "data": {
      "text/plain": [
       "(195, 25)"
      ]
     },
     "execution_count": 18,
     "metadata": {},
     "output_type": "execute_result"
    }
   ],
   "source": [
    "full_df.shape"
   ]
  }
 ],
 "metadata": {
  "kernelspec": {
   "display_name": ".venv",
   "language": "python",
   "name": "python3"
  },
  "language_info": {
   "codemirror_mode": {
    "name": "ipython",
    "version": 3
   },
   "file_extension": ".py",
   "mimetype": "text/x-python",
   "name": "python",
   "nbconvert_exporter": "python",
   "pygments_lexer": "ipython3",
   "version": "3.12.8"
  }
 },
 "nbformat": 4,
 "nbformat_minor": 5
}
