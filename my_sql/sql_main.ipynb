{
 "cells": [
  {
   "cell_type": "code",
   "execution_count": 1,
   "id": "7c4ec23e",
   "metadata": {},
   "outputs": [],
   "source": [
    "import sqlite3\n",
    "import pandas as pd \n",
    "import numpy as np"
   ]
  },
  {
   "cell_type": "code",
   "execution_count": 2,
   "id": "18f2e489",
   "metadata": {},
   "outputs": [],
   "source": [
    "DBNAME = '../resources/my.db'"
   ]
  },
  {
   "cell_type": "markdown",
   "id": "16a0b50f",
   "metadata": {},
   "source": [
    "# SQL commands"
   ]
  },
  {
   "cell_type": "code",
   "execution_count": 3,
   "id": "2773ab5e",
   "metadata": {},
   "outputs": [],
   "source": [
    "create_tables = [\n",
    "'''CREATE TABLE IF NOT EXISTS vac (\n",
    "        vac_id INTEGER PRIMARY KEY,\n",
    "        vac_name TEXT,\n",
    "        city TEXT,\n",
    "        published_at TEXT,\n",
    "        archived INTEGER,\n",
    "        experience TEXT,\n",
    "        url TEXT,\n",
    "        employer_id INTEGER,\n",
    "        schedule_name TEXT,\n",
    "        employment_name TEXT,\n",
    "        prof_role TEXT\n",
    "    );''',\n",
    "\n",
    "'''CREATE TABLE IF NOT EXISTS emp (\n",
    "        vac_id INTEGER PRIMARY KEY,\n",
    "        emp_id INTEGER,\n",
    "        emp_name TEXT,\n",
    "        addres TEXT,\n",
    "        emp_url TEXT,\n",
    "        is_accredited INTEGER,\n",
    "        is_trusted INTEGER\n",
    "    );\n",
    "''',\n",
    "\n",
    "'''CREATE TABLE IF NOT EXISTS sal (\n",
    "        vac_id INTEGER PRIMARY KEY,\n",
    "        salary_from INTEGER,\n",
    "        salary_to INTEGER,\n",
    "        currency TEXT,\n",
    "        gross INTEGER,\n",
    "        mode_name TEXT,\n",
    "        frequency TEXT\n",
    "    )\n",
    "''']\n",
    "\n",
    "union_tables = ['''\n",
    "INSERT OR REPLACE INTO vac\n",
    "                SELECT * FROM vac_df\n",
    "''',\n",
    "\n",
    "'''\n",
    "INSERT OR REPLACE INTO emp\n",
    "                SELECT * FROM emp_df\n",
    "''',\n",
    "\n",
    "'''\n",
    "INSERT OR REPLACE INTO sal\n",
    "                SELECT * FROM sal_df\n",
    "''']\n"
   ]
  },
  {
   "cell_type": "markdown",
   "id": "65613032",
   "metadata": {},
   "source": [
    "--- "
   ]
  },
  {
   "cell_type": "markdown",
   "id": "2303bbbc",
   "metadata": {},
   "source": [
    "#"
   ]
  },
  {
   "cell_type": "code",
   "execution_count": 4,
   "id": "6a2cf35b",
   "metadata": {},
   "outputs": [],
   "source": [
    "def to_database(sqL_command:str, database_name:str):\n",
    "    try:\n",
    "        conn = sqlite3.connect(database_name)\n",
    "        with conn:\n",
    "            cur = conn.cursor()\n",
    "            cur.execute(sqL_command)\n",
    "            res = cur.fetchall()\n",
    "            conn.commit()\n",
    "    except Exception as e:\n",
    "        print(sqL_command,'\\n', e)\n",
    "    conn.close()"
   ]
  },
  {
   "cell_type": "code",
   "execution_count": 5,
   "id": "745e9aaf",
   "metadata": {},
   "outputs": [],
   "source": [
    "for command in create_tables:\n",
    "    to_database(command, DBNAME)"
   ]
  },
  {
   "cell_type": "code",
   "execution_count": 6,
   "id": "7d0d885d",
   "metadata": {},
   "outputs": [],
   "source": [
    "# тестовая ячейка\n",
    "vac_df = pd.read_csv('../resources/dataframes/vac_df.csv', index_col=[0])\n",
    "emp_df = pd.read_csv('../resources/dataframes/emp_df.csv', index_col=[0])\n",
    "sal_df = pd.read_csv('../resources/dataframes/sal_df.csv', index_col=[0])"
   ]
  },
  {
   "cell_type": "code",
   "execution_count": 7,
   "id": "f2e47ed4",
   "metadata": {},
   "outputs": [],
   "source": [
    "# создаем таблицы из датафреймов\n",
    "with sqlite3.connect(DBNAME) as conn:\n",
    "    vac_df.to_sql('vac_df', con=conn, if_exists='replace', index= False)\n",
    "    emp_df.to_sql('emp_df', con=conn, if_exists='replace', index = False)\n",
    "    sal_df.to_sql('sal_df', con=conn, if_exists='replace', index = False)\n",
    "conn.close()"
   ]
  },
  {
   "cell_type": "code",
   "execution_count": 8,
   "id": "1b6317c9",
   "metadata": {},
   "outputs": [],
   "source": [
    "for command in union_tables:\n",
    "    to_database(command, DBNAME)"
   ]
  }
 ],
 "metadata": {
  "kernelspec": {
   "display_name": ".venv",
   "language": "python",
   "name": "python3"
  },
  "language_info": {
   "codemirror_mode": {
    "name": "ipython",
    "version": 3
   },
   "file_extension": ".py",
   "mimetype": "text/x-python",
   "name": "python",
   "nbconvert_exporter": "python",
   "pygments_lexer": "ipython3",
   "version": "3.12.8"
  }
 },
 "nbformat": 4,
 "nbformat_minor": 5
}
